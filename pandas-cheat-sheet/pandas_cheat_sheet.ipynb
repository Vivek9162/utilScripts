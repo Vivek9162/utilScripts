{
 "nbformat": 4,
 "nbformat_minor": 2,
 "metadata": {
  "language_info": {
   "name": "python",
   "codemirror_mode": {
    "name": "ipython",
    "version": 3
   },
   "version": "3.6.9-final"
  },
  "orig_nbformat": 2,
  "file_extension": ".py",
  "mimetype": "text/x-python",
  "name": "python",
  "npconvert_exporter": "python",
  "pygments_lexer": "ipython3",
  "version": 3,
  "kernelspec": {
   "name": "python36964bitpricediscoveryvenv27e3506b7c4b46628d33631bb8841447",
   "display_name": "Python 3.6.9 64-bit ('price-discovery': venv)"
  }
 },
 "cells": [
  {
   "cell_type": "markdown",
   "metadata": {},
   "source": [
    "Importing Pandas Package"
   ]
  },
  {
   "cell_type": "code",
   "execution_count": 1,
   "metadata": {},
   "outputs": [],
   "source": [
    "import pandas as pd"
   ]
  },
  {
   "cell_type": "markdown",
   "metadata": {},
   "source": [
    "## Reading JSON data"
   ]
  },
  {
   "cell_type": "code",
   "execution_count": 47,
   "metadata": {},
   "outputs": [],
   "source": [
    "df=pd.read_json('data.json')"
   ]
  },
  {
   "cell_type": "markdown",
   "metadata": {},
   "source": [
    "If each JSON added to the file but on whole it's not in JSON structure like this\n",
    "\n",
    "{\"_id\": \"5e91991ba38b52e0fb47bb7f\",\"index\": 0,\"guid\": \"554903ee-525d-47cb-b09d-bf3cc15aec3d\"}\n",
    "{\"_id\": \"5e91991bfc6a941b23db09b0\",\"index\": 1,\"guid\": \"9bdd26f6-d14c-4ab8-bcd3-d42b27599fbd\"}\n",
    "{\"_id\": \"5e91991bfc4766a4b3ea78ea\",\"index\": 2,\"guid\": \"a3fee0e1-7b15-4f8b-8901-eaef3ea466c8\"}\n",
    "\n",
    "Then to read json file"
   ]
  },
  {
   "cell_type": "code",
   "execution_count": 11,
   "metadata": {},
   "outputs": [],
   "source": [
    "df=pd.read_json('data_not_in_proper_format.json', lines=True)"
   ]
  },
  {
   "cell_type": "markdown",
   "metadata": {},
   "source": [
    "## Data Display"
   ]
  },
  {
   "cell_type": "markdown",
   "metadata": {},
   "source": [
    "To see first 5 rows data then"
   ]
  },
  {
   "cell_type": "code",
   "execution_count": 9,
   "metadata": {},
   "outputs": [
    {
     "output_type": "execute_result",
     "data": {
      "text/plain": "                        _id  index                                  guid  \\\n0  5e91936d617c639d56d6e40a      0  7fe17eae-c86f-4b99-896a-018636d54f59   \n1  5e91936d0326151699779694      1  b8c92f7e-ca91-4b07-9e49-956ce1f6bebf   \n2  5e91936dac51832738a8d241      2  71627ba1-c0bf-4582-9e16-11a5fa2b7889   \n3  5e91936dc74a890c6f19d933      3  f24ce2af-1e61-47e4-93bb-d8024eb8e581   \n4  5e91936df9d5b29dec2b1b63      4  013e2904-9e7c-43fe-8bc4-2afc9b8f270c   \n\n   isActive    balance                    picture  age eyeColor  \\\n0      True  $1,814.13  http://placehold.it/32x32   33     blue   \n1     False  $3,610.18  http://placehold.it/32x32   35      NaN   \n2     False  $2,358.30  http://placehold.it/32x32   35     blue   \n3      True  $2,457.23  http://placehold.it/32x32   24    green   \n4     False  $2,466.73  http://placehold.it/32x32   20     blue   \n\n             name  gender    company                       email  \\\n0    Britney Cote  female    PANZENT     britneycote@panzent.com   \n1  Miranda Mathis    male    HIVEDOM   mirandamathis@hivedom.com   \n2   Carly Rodgers  female   BUZZNESS   carlyrodgers@buzzness.com   \n3     Patsy Mckee  female    VISALIA      patsymckee@visalia.com   \n4   Waters Farley    male  RODEOLOGY  watersfarley@rodeology.com   \n\n               phone                                            address  \\\n0  +1 (907) 524-3223  266 Church Lane, Swartzville, Massachusetts, 7719   \n1  +1 (952) 533-3545      271 Underhill Avenue, Watchtower, Palau, 7558   \n2  +1 (974) 452-3699  116 Forbell Street, Kilbourne, American Samoa,...   \n3  +1 (800) 570-2994     275 Railroad Avenue, Cloverdale, Vermont, 7149   \n4  +1 (921) 580-2595     148 Village Road, Dyckesville, Minnesota, 2327   \n\n                                               about  \\\n0  Dolore aliquip sint ut proident. Ullamco sit e...   \n1  Ut ea dolor cupidatat laboris nulla in anim ex...   \n2  Culpa tempor voluptate excepteur adipisicing i...   \n3  Non duis incididunt laboris tempor aute aliqui...   \n4  Aute nulla aute proident ullamco in laborum. A...   \n\n                    registered   latitude   longitude  \\\n0  2018-07-24T02:51:54 -06:-30  35.545005  -10.315414   \n1  2014-03-27T08:55:19 -06:-30  16.061777   62.760309   \n2  2017-07-26T02:04:48 -06:-30  10.495423  139.383287   \n3  2015-03-05T07:38:38 -06:-30  89.744027 -120.626924   \n4  2017-01-05T01:40:22 -06:-30 -78.364669   63.065719   \n\n                                                tags  friends  \\\n0  [enim, dolor, fugiat, velit, excepteur, culpa,...      127   \n1  [occaecat, veniam, elit, consequat, ea, eiusmo...      235   \n2    [est, sunt, sunt, laborum, sit, pariatur, nisi]      298   \n3  [veniam, sit, nulla, duis, elit, sunt, consect...      191   \n4  [laborum, ipsum, nulla, anim, laborum, minim, ex]      253   \n\n                                            greeting favoriteFruit  \n0   Hello, Britney Cote! You have 5 unread messages.         apple  \n1  Hello, Miranda Mathis! You have 3 unread messa...         apple  \n2  Hello, Carly Rodgers! You have 6 unread messages.         apple  \n3    Hello, Patsy Mckee! You have 5 unread messages.         apple  \n4  Hello, Waters Farley! You have 6 unread messages.         apple  ",
      "text/html": "<div>\n<style scoped>\n    .dataframe tbody tr th:only-of-type {\n        vertical-align: middle;\n    }\n\n    .dataframe tbody tr th {\n        vertical-align: top;\n    }\n\n    .dataframe thead th {\n        text-align: right;\n    }\n</style>\n<table border=\"1\" class=\"dataframe\">\n  <thead>\n    <tr style=\"text-align: right;\">\n      <th></th>\n      <th>_id</th>\n      <th>index</th>\n      <th>guid</th>\n      <th>isActive</th>\n      <th>balance</th>\n      <th>picture</th>\n      <th>age</th>\n      <th>eyeColor</th>\n      <th>name</th>\n      <th>gender</th>\n      <th>company</th>\n      <th>email</th>\n      <th>phone</th>\n      <th>address</th>\n      <th>about</th>\n      <th>registered</th>\n      <th>latitude</th>\n      <th>longitude</th>\n      <th>tags</th>\n      <th>friends</th>\n      <th>greeting</th>\n      <th>favoriteFruit</th>\n    </tr>\n  </thead>\n  <tbody>\n    <tr>\n      <th>0</th>\n      <td>5e91936d617c639d56d6e40a</td>\n      <td>0</td>\n      <td>7fe17eae-c86f-4b99-896a-018636d54f59</td>\n      <td>True</td>\n      <td>$1,814.13</td>\n      <td>http://placehold.it/32x32</td>\n      <td>33</td>\n      <td>blue</td>\n      <td>Britney Cote</td>\n      <td>female</td>\n      <td>PANZENT</td>\n      <td>britneycote@panzent.com</td>\n      <td>+1 (907) 524-3223</td>\n      <td>266 Church Lane, Swartzville, Massachusetts, 7719</td>\n      <td>Dolore aliquip sint ut proident. Ullamco sit e...</td>\n      <td>2018-07-24T02:51:54 -06:-30</td>\n      <td>35.545005</td>\n      <td>-10.315414</td>\n      <td>[enim, dolor, fugiat, velit, excepteur, culpa,...</td>\n      <td>127</td>\n      <td>Hello, Britney Cote! You have 5 unread messages.</td>\n      <td>apple</td>\n    </tr>\n    <tr>\n      <th>1</th>\n      <td>5e91936d0326151699779694</td>\n      <td>1</td>\n      <td>b8c92f7e-ca91-4b07-9e49-956ce1f6bebf</td>\n      <td>False</td>\n      <td>$3,610.18</td>\n      <td>http://placehold.it/32x32</td>\n      <td>35</td>\n      <td>NaN</td>\n      <td>Miranda Mathis</td>\n      <td>male</td>\n      <td>HIVEDOM</td>\n      <td>mirandamathis@hivedom.com</td>\n      <td>+1 (952) 533-3545</td>\n      <td>271 Underhill Avenue, Watchtower, Palau, 7558</td>\n      <td>Ut ea dolor cupidatat laboris nulla in anim ex...</td>\n      <td>2014-03-27T08:55:19 -06:-30</td>\n      <td>16.061777</td>\n      <td>62.760309</td>\n      <td>[occaecat, veniam, elit, consequat, ea, eiusmo...</td>\n      <td>235</td>\n      <td>Hello, Miranda Mathis! You have 3 unread messa...</td>\n      <td>apple</td>\n    </tr>\n    <tr>\n      <th>2</th>\n      <td>5e91936dac51832738a8d241</td>\n      <td>2</td>\n      <td>71627ba1-c0bf-4582-9e16-11a5fa2b7889</td>\n      <td>False</td>\n      <td>$2,358.30</td>\n      <td>http://placehold.it/32x32</td>\n      <td>35</td>\n      <td>blue</td>\n      <td>Carly Rodgers</td>\n      <td>female</td>\n      <td>BUZZNESS</td>\n      <td>carlyrodgers@buzzness.com</td>\n      <td>+1 (974) 452-3699</td>\n      <td>116 Forbell Street, Kilbourne, American Samoa,...</td>\n      <td>Culpa tempor voluptate excepteur adipisicing i...</td>\n      <td>2017-07-26T02:04:48 -06:-30</td>\n      <td>10.495423</td>\n      <td>139.383287</td>\n      <td>[est, sunt, sunt, laborum, sit, pariatur, nisi]</td>\n      <td>298</td>\n      <td>Hello, Carly Rodgers! You have 6 unread messages.</td>\n      <td>apple</td>\n    </tr>\n    <tr>\n      <th>3</th>\n      <td>5e91936dc74a890c6f19d933</td>\n      <td>3</td>\n      <td>f24ce2af-1e61-47e4-93bb-d8024eb8e581</td>\n      <td>True</td>\n      <td>$2,457.23</td>\n      <td>http://placehold.it/32x32</td>\n      <td>24</td>\n      <td>green</td>\n      <td>Patsy Mckee</td>\n      <td>female</td>\n      <td>VISALIA</td>\n      <td>patsymckee@visalia.com</td>\n      <td>+1 (800) 570-2994</td>\n      <td>275 Railroad Avenue, Cloverdale, Vermont, 7149</td>\n      <td>Non duis incididunt laboris tempor aute aliqui...</td>\n      <td>2015-03-05T07:38:38 -06:-30</td>\n      <td>89.744027</td>\n      <td>-120.626924</td>\n      <td>[veniam, sit, nulla, duis, elit, sunt, consect...</td>\n      <td>191</td>\n      <td>Hello, Patsy Mckee! You have 5 unread messages.</td>\n      <td>apple</td>\n    </tr>\n    <tr>\n      <th>4</th>\n      <td>5e91936df9d5b29dec2b1b63</td>\n      <td>4</td>\n      <td>013e2904-9e7c-43fe-8bc4-2afc9b8f270c</td>\n      <td>False</td>\n      <td>$2,466.73</td>\n      <td>http://placehold.it/32x32</td>\n      <td>20</td>\n      <td>blue</td>\n      <td>Waters Farley</td>\n      <td>male</td>\n      <td>RODEOLOGY</td>\n      <td>watersfarley@rodeology.com</td>\n      <td>+1 (921) 580-2595</td>\n      <td>148 Village Road, Dyckesville, Minnesota, 2327</td>\n      <td>Aute nulla aute proident ullamco in laborum. A...</td>\n      <td>2017-01-05T01:40:22 -06:-30</td>\n      <td>-78.364669</td>\n      <td>63.065719</td>\n      <td>[laborum, ipsum, nulla, anim, laborum, minim, ex]</td>\n      <td>253</td>\n      <td>Hello, Waters Farley! You have 6 unread messages.</td>\n      <td>apple</td>\n    </tr>\n  </tbody>\n</table>\n</div>"
     },
     "metadata": {},
     "execution_count": 9
    }
   ],
   "source": [
    "df.head()"
   ]
  },
  {
   "cell_type": "markdown",
   "metadata": {},
   "source": [
    "To see only first row data"
   ]
  },
  {
   "cell_type": "code",
   "execution_count": 7,
   "metadata": {},
   "outputs": [
    {
     "output_type": "execute_result",
     "data": {
      "text/plain": "                        _id  index                                  guid  \\\n0  5e91936d617c639d56d6e40a      0  7fe17eae-c86f-4b99-896a-018636d54f59   \n\n   isActive    balance                    picture  age eyeColor          name  \\\n0      True  $1,814.13  http://placehold.it/32x32   33     blue  Britney Cote   \n\n   gender  ...              phone  \\\n0  female  ...  +1 (907) 524-3223   \n\n                                             address  \\\n0  266 Church Lane, Swartzville, Massachusetts, 7719   \n\n                                               about  \\\n0  Dolore aliquip sint ut proident. Ullamco sit e...   \n\n                    registered   latitude  longitude  \\\n0  2018-07-24T02:51:54 -06:-30  35.545005 -10.315414   \n\n                                                tags  friends  \\\n0  ['enim', 'dolor', 'fugiat', 'velit', 'excepteu...      127   \n\n                                           greeting  favoriteFruit  \n0  Hello, Britney Cote! You have 5 unread messages.          apple  \n\n[1 rows x 22 columns]",
      "text/html": "<div>\n<style scoped>\n    .dataframe tbody tr th:only-of-type {\n        vertical-align: middle;\n    }\n\n    .dataframe tbody tr th {\n        vertical-align: top;\n    }\n\n    .dataframe thead th {\n        text-align: right;\n    }\n</style>\n<table border=\"1\" class=\"dataframe\">\n  <thead>\n    <tr style=\"text-align: right;\">\n      <th></th>\n      <th>_id</th>\n      <th>index</th>\n      <th>guid</th>\n      <th>isActive</th>\n      <th>balance</th>\n      <th>picture</th>\n      <th>age</th>\n      <th>eyeColor</th>\n      <th>name</th>\n      <th>gender</th>\n      <th>...</th>\n      <th>phone</th>\n      <th>address</th>\n      <th>about</th>\n      <th>registered</th>\n      <th>latitude</th>\n      <th>longitude</th>\n      <th>tags</th>\n      <th>friends</th>\n      <th>greeting</th>\n      <th>favoriteFruit</th>\n    </tr>\n  </thead>\n  <tbody>\n    <tr>\n      <th>0</th>\n      <td>5e91936d617c639d56d6e40a</td>\n      <td>0</td>\n      <td>7fe17eae-c86f-4b99-896a-018636d54f59</td>\n      <td>True</td>\n      <td>$1,814.13</td>\n      <td>http://placehold.it/32x32</td>\n      <td>33</td>\n      <td>blue</td>\n      <td>Britney Cote</td>\n      <td>female</td>\n      <td>...</td>\n      <td>+1 (907) 524-3223</td>\n      <td>266 Church Lane, Swartzville, Massachusetts, 7719</td>\n      <td>Dolore aliquip sint ut proident. Ullamco sit e...</td>\n      <td>2018-07-24T02:51:54 -06:-30</td>\n      <td>35.545005</td>\n      <td>-10.315414</td>\n      <td>['enim', 'dolor', 'fugiat', 'velit', 'excepteu...</td>\n      <td>127</td>\n      <td>Hello, Britney Cote! You have 5 unread messages.</td>\n      <td>apple</td>\n    </tr>\n  </tbody>\n</table>\n<p>1 rows × 22 columns</p>\n</div>"
     },
     "metadata": {},
     "execution_count": 7
    }
   ],
   "source": [
    "df.head(1)"
   ]
  },
  {
   "cell_type": "markdown",
   "metadata": {},
   "source": [
    "To see last 2 rows data then"
   ]
  },
  {
   "cell_type": "code",
   "execution_count": 8,
   "metadata": {},
   "outputs": [
    {
     "output_type": "execute_result",
     "data": {
      "text/plain": "                        _id  index                                  guid  \\\n5  5e91936dbf8fbe6a1b99f888      5  85f0dea3-6239-4081-b847-8bfe7ef88e81   \n6  5e91936d4eed9784f3515a46      6  2fb77304-ace9-490c-8e5b-9b62ce3b1602   \n\n   isActive    balance                    picture  age eyeColor  \\\n5     False  $2,069.59  http://placehold.it/32x32   39    brown   \n6     False  $1,472.59  http://placehold.it/32x32   24     blue   \n\n              name  gender  ...              phone  \\\n5     Kelly Monroe  female  ...  +1 (807) 505-3666   \n6  Chelsea Gregory  female  ...  +1 (836) 549-2592   \n\n                                     address  \\\n5     171 Gain Court, Bluffview, Maine, 6847   \n6  898 Chester Avenue, Brule, Kentucky, 8909   \n\n                                               about  \\\n5  Nisi non incididunt nulla nulla proident molli...   \n6  Laborum labore aliqua aliquip quis elit proide...   \n\n                    registered   latitude  longitude  \\\n5  2016-03-20T03:46:58 -06:-30 -25.686888  58.573636   \n6  2017-05-24T06:34:06 -06:-30 -55.714139  -1.071521   \n\n                                                tags  friends  \\\n5  ['exercitation', 'nisi', 'laboris', 'dolor', '...      123   \n6  ['labore', 'Lorem', 'consectetur', 'Lorem', 'i...      167   \n\n                                            greeting  favoriteFruit  \n5   Hello, Kelly Monroe! You have 7 unread messages.         banana  \n6  Hello, Chelsea Gregory! You have 8 unread mess...          apple  \n\n[2 rows x 22 columns]",
      "text/html": "<div>\n<style scoped>\n    .dataframe tbody tr th:only-of-type {\n        vertical-align: middle;\n    }\n\n    .dataframe tbody tr th {\n        vertical-align: top;\n    }\n\n    .dataframe thead th {\n        text-align: right;\n    }\n</style>\n<table border=\"1\" class=\"dataframe\">\n  <thead>\n    <tr style=\"text-align: right;\">\n      <th></th>\n      <th>_id</th>\n      <th>index</th>\n      <th>guid</th>\n      <th>isActive</th>\n      <th>balance</th>\n      <th>picture</th>\n      <th>age</th>\n      <th>eyeColor</th>\n      <th>name</th>\n      <th>gender</th>\n      <th>...</th>\n      <th>phone</th>\n      <th>address</th>\n      <th>about</th>\n      <th>registered</th>\n      <th>latitude</th>\n      <th>longitude</th>\n      <th>tags</th>\n      <th>friends</th>\n      <th>greeting</th>\n      <th>favoriteFruit</th>\n    </tr>\n  </thead>\n  <tbody>\n    <tr>\n      <th>5</th>\n      <td>5e91936dbf8fbe6a1b99f888</td>\n      <td>5</td>\n      <td>85f0dea3-6239-4081-b847-8bfe7ef88e81</td>\n      <td>False</td>\n      <td>$2,069.59</td>\n      <td>http://placehold.it/32x32</td>\n      <td>39</td>\n      <td>brown</td>\n      <td>Kelly Monroe</td>\n      <td>female</td>\n      <td>...</td>\n      <td>+1 (807) 505-3666</td>\n      <td>171 Gain Court, Bluffview, Maine, 6847</td>\n      <td>Nisi non incididunt nulla nulla proident molli...</td>\n      <td>2016-03-20T03:46:58 -06:-30</td>\n      <td>-25.686888</td>\n      <td>58.573636</td>\n      <td>['exercitation', 'nisi', 'laboris', 'dolor', '...</td>\n      <td>123</td>\n      <td>Hello, Kelly Monroe! You have 7 unread messages.</td>\n      <td>banana</td>\n    </tr>\n    <tr>\n      <th>6</th>\n      <td>5e91936d4eed9784f3515a46</td>\n      <td>6</td>\n      <td>2fb77304-ace9-490c-8e5b-9b62ce3b1602</td>\n      <td>False</td>\n      <td>$1,472.59</td>\n      <td>http://placehold.it/32x32</td>\n      <td>24</td>\n      <td>blue</td>\n      <td>Chelsea Gregory</td>\n      <td>female</td>\n      <td>...</td>\n      <td>+1 (836) 549-2592</td>\n      <td>898 Chester Avenue, Brule, Kentucky, 8909</td>\n      <td>Laborum labore aliqua aliquip quis elit proide...</td>\n      <td>2017-05-24T06:34:06 -06:-30</td>\n      <td>-55.714139</td>\n      <td>-1.071521</td>\n      <td>['labore', 'Lorem', 'consectetur', 'Lorem', 'i...</td>\n      <td>167</td>\n      <td>Hello, Chelsea Gregory! You have 8 unread mess...</td>\n      <td>apple</td>\n    </tr>\n  </tbody>\n</table>\n<p>2 rows × 22 columns</p>\n</div>"
     },
     "metadata": {},
     "execution_count": 8
    }
   ],
   "source": [
    "df.tail(2)"
   ]
  },
  {
   "cell_type": "markdown",
   "metadata": {},
   "source": [
    "If there are so many columns like above some of the columns won't be shown there you will see \"...\" only. To see all columns below code will come handy"
   ]
  },
  {
   "cell_type": "code",
   "execution_count": 3,
   "metadata": {},
   "outputs": [],
   "source": [
    "pd.set_option('display.max_columns', None)"
   ]
  },
  {
   "cell_type": "code",
   "execution_count": 10,
   "metadata": {},
   "outputs": [
    {
     "output_type": "execute_result",
     "data": {
      "text/plain": "                        _id  index                                  guid  \\\n0  5e91936d617c639d56d6e40a      0  7fe17eae-c86f-4b99-896a-018636d54f59   \n1  5e91936d0326151699779694      1  b8c92f7e-ca91-4b07-9e49-956ce1f6bebf   \n2  5e91936dac51832738a8d241      2  71627ba1-c0bf-4582-9e16-11a5fa2b7889   \n3  5e91936dc74a890c6f19d933      3  f24ce2af-1e61-47e4-93bb-d8024eb8e581   \n4  5e91936df9d5b29dec2b1b63      4  013e2904-9e7c-43fe-8bc4-2afc9b8f270c   \n\n   isActive    balance                    picture  age eyeColor  \\\n0      True  $1,814.13  http://placehold.it/32x32   33     blue   \n1     False  $3,610.18  http://placehold.it/32x32   35    brown   \n2     False  $2,358.30  http://placehold.it/32x32   35     blue   \n3      True  $2,457.23  http://placehold.it/32x32   24    green   \n4     False  $2,466.73  http://placehold.it/32x32   20     blue   \n\n             name  gender    company                       email  \\\n0    Britney Cote  female    PANZENT     britneycote@panzent.com   \n1  Miranda Mathis    male    HIVEDOM   mirandamathis@hivedom.com   \n2   Carly Rodgers  female   BUZZNESS   carlyrodgers@buzzness.com   \n3     Patsy Mckee  female    VISALIA      patsymckee@visalia.com   \n4   Waters Farley    male  RODEOLOGY  watersfarley@rodeology.com   \n\n               phone                                            address  \\\n0  +1 (907) 524-3223  266 Church Lane, Swartzville, Massachusetts, 7719   \n1  +1 (952) 533-3545      271 Underhill Avenue, Watchtower, Palau, 7558   \n2  +1 (974) 452-3699  116 Forbell Street, Kilbourne, American Samoa,...   \n3  +1 (800) 570-2994     275 Railroad Avenue, Cloverdale, Vermont, 7149   \n4  +1 (921) 580-2595     148 Village Road, Dyckesville, Minnesota, 2327   \n\n                                               about  \\\n0  Dolore aliquip sint ut proident. Ullamco sit e...   \n1  Ut ea dolor cupidatat laboris nulla in anim ex...   \n2  Culpa tempor voluptate excepteur adipisicing i...   \n3  Non duis incididunt laboris tempor aute aliqui...   \n4  Aute nulla aute proident ullamco in laborum. A...   \n\n                    registered   latitude   longitude  \\\n0  2018-07-24T02:51:54 -06:-30  35.545005  -10.315414   \n1  2014-03-27T08:55:19 -06:-30  16.061777   62.760309   \n2  2017-07-26T02:04:48 -06:-30  10.495423  139.383287   \n3  2015-03-05T07:38:38 -06:-30  89.744027 -120.626924   \n4  2017-01-05T01:40:22 -06:-30 -78.364669   63.065719   \n\n                                                tags  friends  \\\n0  ['enim', 'dolor', 'fugiat', 'velit', 'excepteu...      127   \n1  ['occaecat', 'veniam', 'elit', 'consequat', 'e...      235   \n2  ['est', 'sunt', 'sunt', 'laborum', 'sit', 'par...      298   \n3  ['veniam', 'sit', 'nulla', 'duis', 'elit', 'su...      191   \n4  ['laborum', 'ipsum', 'nulla', 'anim', 'laborum...      253   \n\n                                            greeting favoriteFruit  \n0   Hello, Britney Cote! You have 5 unread messages.         apple  \n1  Hello, Miranda Mathis! You have 3 unread messa...         apple  \n2  Hello, Carly Rodgers! You have 6 unread messages.         apple  \n3    Hello, Patsy Mckee! You have 5 unread messages.         apple  \n4  Hello, Waters Farley! You have 6 unread messages.         apple  ",
      "text/html": "<div>\n<style scoped>\n    .dataframe tbody tr th:only-of-type {\n        vertical-align: middle;\n    }\n\n    .dataframe tbody tr th {\n        vertical-align: top;\n    }\n\n    .dataframe thead th {\n        text-align: right;\n    }\n</style>\n<table border=\"1\" class=\"dataframe\">\n  <thead>\n    <tr style=\"text-align: right;\">\n      <th></th>\n      <th>_id</th>\n      <th>index</th>\n      <th>guid</th>\n      <th>isActive</th>\n      <th>balance</th>\n      <th>picture</th>\n      <th>age</th>\n      <th>eyeColor</th>\n      <th>name</th>\n      <th>gender</th>\n      <th>company</th>\n      <th>email</th>\n      <th>phone</th>\n      <th>address</th>\n      <th>about</th>\n      <th>registered</th>\n      <th>latitude</th>\n      <th>longitude</th>\n      <th>tags</th>\n      <th>friends</th>\n      <th>greeting</th>\n      <th>favoriteFruit</th>\n    </tr>\n  </thead>\n  <tbody>\n    <tr>\n      <th>0</th>\n      <td>5e91936d617c639d56d6e40a</td>\n      <td>0</td>\n      <td>7fe17eae-c86f-4b99-896a-018636d54f59</td>\n      <td>True</td>\n      <td>$1,814.13</td>\n      <td>http://placehold.it/32x32</td>\n      <td>33</td>\n      <td>blue</td>\n      <td>Britney Cote</td>\n      <td>female</td>\n      <td>PANZENT</td>\n      <td>britneycote@panzent.com</td>\n      <td>+1 (907) 524-3223</td>\n      <td>266 Church Lane, Swartzville, Massachusetts, 7719</td>\n      <td>Dolore aliquip sint ut proident. Ullamco sit e...</td>\n      <td>2018-07-24T02:51:54 -06:-30</td>\n      <td>35.545005</td>\n      <td>-10.315414</td>\n      <td>['enim', 'dolor', 'fugiat', 'velit', 'excepteu...</td>\n      <td>127</td>\n      <td>Hello, Britney Cote! You have 5 unread messages.</td>\n      <td>apple</td>\n    </tr>\n    <tr>\n      <th>1</th>\n      <td>5e91936d0326151699779694</td>\n      <td>1</td>\n      <td>b8c92f7e-ca91-4b07-9e49-956ce1f6bebf</td>\n      <td>False</td>\n      <td>$3,610.18</td>\n      <td>http://placehold.it/32x32</td>\n      <td>35</td>\n      <td>brown</td>\n      <td>Miranda Mathis</td>\n      <td>male</td>\n      <td>HIVEDOM</td>\n      <td>mirandamathis@hivedom.com</td>\n      <td>+1 (952) 533-3545</td>\n      <td>271 Underhill Avenue, Watchtower, Palau, 7558</td>\n      <td>Ut ea dolor cupidatat laboris nulla in anim ex...</td>\n      <td>2014-03-27T08:55:19 -06:-30</td>\n      <td>16.061777</td>\n      <td>62.760309</td>\n      <td>['occaecat', 'veniam', 'elit', 'consequat', 'e...</td>\n      <td>235</td>\n      <td>Hello, Miranda Mathis! You have 3 unread messa...</td>\n      <td>apple</td>\n    </tr>\n    <tr>\n      <th>2</th>\n      <td>5e91936dac51832738a8d241</td>\n      <td>2</td>\n      <td>71627ba1-c0bf-4582-9e16-11a5fa2b7889</td>\n      <td>False</td>\n      <td>$2,358.30</td>\n      <td>http://placehold.it/32x32</td>\n      <td>35</td>\n      <td>blue</td>\n      <td>Carly Rodgers</td>\n      <td>female</td>\n      <td>BUZZNESS</td>\n      <td>carlyrodgers@buzzness.com</td>\n      <td>+1 (974) 452-3699</td>\n      <td>116 Forbell Street, Kilbourne, American Samoa,...</td>\n      <td>Culpa tempor voluptate excepteur adipisicing i...</td>\n      <td>2017-07-26T02:04:48 -06:-30</td>\n      <td>10.495423</td>\n      <td>139.383287</td>\n      <td>['est', 'sunt', 'sunt', 'laborum', 'sit', 'par...</td>\n      <td>298</td>\n      <td>Hello, Carly Rodgers! You have 6 unread messages.</td>\n      <td>apple</td>\n    </tr>\n    <tr>\n      <th>3</th>\n      <td>5e91936dc74a890c6f19d933</td>\n      <td>3</td>\n      <td>f24ce2af-1e61-47e4-93bb-d8024eb8e581</td>\n      <td>True</td>\n      <td>$2,457.23</td>\n      <td>http://placehold.it/32x32</td>\n      <td>24</td>\n      <td>green</td>\n      <td>Patsy Mckee</td>\n      <td>female</td>\n      <td>VISALIA</td>\n      <td>patsymckee@visalia.com</td>\n      <td>+1 (800) 570-2994</td>\n      <td>275 Railroad Avenue, Cloverdale, Vermont, 7149</td>\n      <td>Non duis incididunt laboris tempor aute aliqui...</td>\n      <td>2015-03-05T07:38:38 -06:-30</td>\n      <td>89.744027</td>\n      <td>-120.626924</td>\n      <td>['veniam', 'sit', 'nulla', 'duis', 'elit', 'su...</td>\n      <td>191</td>\n      <td>Hello, Patsy Mckee! You have 5 unread messages.</td>\n      <td>apple</td>\n    </tr>\n    <tr>\n      <th>4</th>\n      <td>5e91936df9d5b29dec2b1b63</td>\n      <td>4</td>\n      <td>013e2904-9e7c-43fe-8bc4-2afc9b8f270c</td>\n      <td>False</td>\n      <td>$2,466.73</td>\n      <td>http://placehold.it/32x32</td>\n      <td>20</td>\n      <td>blue</td>\n      <td>Waters Farley</td>\n      <td>male</td>\n      <td>RODEOLOGY</td>\n      <td>watersfarley@rodeology.com</td>\n      <td>+1 (921) 580-2595</td>\n      <td>148 Village Road, Dyckesville, Minnesota, 2327</td>\n      <td>Aute nulla aute proident ullamco in laborum. A...</td>\n      <td>2017-01-05T01:40:22 -06:-30</td>\n      <td>-78.364669</td>\n      <td>63.065719</td>\n      <td>['laborum', 'ipsum', 'nulla', 'anim', 'laborum...</td>\n      <td>253</td>\n      <td>Hello, Waters Farley! You have 6 unread messages.</td>\n      <td>apple</td>\n    </tr>\n  </tbody>\n</table>\n</div>"
     },
     "metadata": {},
     "execution_count": 10
    }
   ],
   "source": [
    "df.head()"
   ]
  },
  {
   "cell_type": "markdown",
   "metadata": {},
   "source": [
    "At the time of display just like columns displaying many rows also have restrictions If you want to see all rows then below code is here to save you"
   ]
  },
  {
   "cell_type": "code",
   "execution_count": 4,
   "metadata": {},
   "outputs": [],
   "source": [
    "pd.set_option('display.max_rows', None)"
   ]
  },
  {
   "cell_type": "markdown",
   "metadata": {},
   "source": [
    "## Reading data from MySQL"
   ]
  },
  {
   "cell_type": "markdown",
   "metadata": {},
   "source": [
    "If you need to read data from the MySQL database and load it in the dataframe then\n",
    "\n",
    "First, you need to create a MySQL connection for that we will provide database configuration details.\n",
    "I use mysql-connector-python package usually. To create a MySQL connection you need to run above code to run it first you need to install this package for that you need to run below command\n",
    "\n",
    "pip3 install mysql-connector-python"
   ]
  },
  {
   "cell_type": "code",
   "execution_count": null,
   "metadata": {},
   "outputs": [],
   "source": [
    "import mysql.connector\n",
    "\n",
    "mydb = mysql.connector.connect(\n",
    "  host=\"localhost\",\n",
    "  user=\"root\",\n",
    "  passwd=\"root\",\n",
    "  database=\"test\"\n",
    ")"
   ]
  },
  {
   "cell_type": "markdown",
   "metadata": {},
   "source": [
    "Once the connection is created you just need to provide query rest will be handled by pandas for you"
   ]
  },
  {
   "cell_type": "code",
   "execution_count": null,
   "metadata": {},
   "outputs": [],
   "source": [
    "df = pd.read_sql(\"SELECT * FROM table_name\", mydb)"
   ]
  },
  {
   "cell_type": "markdown",
   "metadata": {},
   "source": [
    "## Reading CSV Data"
   ]
  },
  {
   "cell_type": "markdown",
   "metadata": {},
   "source": [
    "To read data from CSV file\n",
    "\n",
    "Note: header=0 means you have the names of columns in the first row in the file"
   ]
  },
  {
   "cell_type": "markdown",
   "metadata": {},
   "source": [
    "## Writing Data to CSV file"
   ]
  },
  {
   "cell_type": "code",
   "execution_count": 5,
   "metadata": {},
   "outputs": [],
   "source": [
    "df=pd.read_csv('data.csv', sep=';', header=0)"
   ]
  },
  {
   "cell_type": "markdown",
   "metadata": {},
   "source": [
    "If you want to write the data we have in the data frame to a CSV file then\n",
    "\n",
    "Note: By default whenever pandas write data from data frame to CSV file they put row index too. To avoid this index=False is required."
   ]
  },
  {
   "cell_type": "code",
   "execution_count": 4,
   "metadata": {},
   "outputs": [],
   "source": [
    "df.to_csv('data.csv', sep=';', index=False)"
   ]
  },
  {
   "cell_type": "markdown",
   "metadata": {},
   "source": [
    "## Understanding the Data"
   ]
  },
  {
   "cell_type": "markdown",
   "metadata": {},
   "source": [
    "To understand what column types and which have values in every record and which doesn't"
   ]
  },
  {
   "cell_type": "code",
   "execution_count": 4,
   "metadata": {},
   "outputs": [
    {
     "output_type": "stream",
     "name": "stdout",
     "text": "<class 'pandas.core.frame.DataFrame'>\nRangeIndex: 19 entries, 0 to 18\nData columns (total 22 columns):\n #   Column         Non-Null Count  Dtype  \n---  ------         --------------  -----  \n 0   _id            19 non-null     object \n 1   index          19 non-null     int64  \n 2   guid           19 non-null     object \n 3   isActive       19 non-null     bool   \n 4   balance        19 non-null     object \n 5   picture        19 non-null     object \n 6   age            19 non-null     int64  \n 7   eyeColor       16 non-null     object \n 8   name           19 non-null     object \n 9   gender         19 non-null     object \n 10  company        19 non-null     object \n 11  email          19 non-null     object \n 12  phone          19 non-null     object \n 13  address        19 non-null     object \n 14  registered     19 non-null     object \n 15  latitude       19 non-null     float64\n 16  longitude      19 non-null     float64\n 17  tags           19 non-null     object \n 18  friends        19 non-null     int64  \n 19  greeting       19 non-null     object \n 20  favoriteFruit  19 non-null     object \n 21  about          17 non-null     object \ndtypes: bool(1), float64(2), int64(3), object(16)\nmemory usage: 3.3+ KB\n"
    }
   ],
   "source": [
    "df.info()"
   ]
  },
  {
   "cell_type": "markdown",
   "metadata": {},
   "source": [
    "To get columns list"
   ]
  },
  {
   "cell_type": "code",
   "execution_count": 5,
   "metadata": {},
   "outputs": [
    {
     "output_type": "execute_result",
     "data": {
      "text/plain": "['_id',\n 'index',\n 'guid',\n 'isActive',\n 'balance',\n 'picture',\n 'age',\n 'eyeColor',\n 'name',\n 'gender',\n 'company',\n 'email',\n 'phone',\n 'address',\n 'registered',\n 'latitude',\n 'longitude',\n 'tags',\n 'friends',\n 'greeting',\n 'favoriteFruit',\n 'about']"
     },
     "metadata": {},
     "execution_count": 5
    }
   ],
   "source": [
    "list(df)"
   ]
  },
  {
   "cell_type": "code",
   "execution_count": 6,
   "metadata": {},
   "outputs": [
    {
     "output_type": "stream",
     "name": "stdout",
     "text": "_id\nindex\nguid\nisActive\nbalance\npicture\nage\neyeColor\nname\ngender\ncompany\nemail\nphone\naddress\nregistered\nlatitude\nlongitude\ntags\nfriends\ngreeting\nfavoriteFruit\nabout\n"
    }
   ],
   "source": [
    "for column in df.columns:\n",
    "    print(column)"
   ]
  },
  {
   "cell_type": "markdown",
   "metadata": {},
   "source": [
    "To know unique values in a column"
   ]
  },
  {
   "cell_type": "code",
   "execution_count": 7,
   "metadata": {},
   "outputs": [
    {
     "output_type": "execute_result",
     "data": {
      "text/plain": "array(['blue', nan, 'green', 'brown'], dtype=object)"
     },
     "metadata": {},
     "execution_count": 7
    }
   ],
   "source": [
    "df['eyeColor'].unique()"
   ]
  },
  {
   "cell_type": "code",
   "execution_count": 8,
   "metadata": {},
   "outputs": [
    {
     "output_type": "execute_result",
     "data": {
      "text/plain": "4"
     },
     "metadata": {},
     "execution_count": 8
    }
   ],
   "source": [
    "len(df.eyeColor.unique())"
   ]
  },
  {
   "cell_type": "markdown",
   "metadata": {},
   "source": [
    "Getting Each value of a column counts like group by"
   ]
  },
  {
   "cell_type": "code",
   "execution_count": 9,
   "metadata": {},
   "outputs": [
    {
     "output_type": "execute_result",
     "data": {
      "text/plain": "blue     10\nbrown     3\ngreen     3\nName: eyeColor, dtype: int64"
     },
     "metadata": {},
     "execution_count": 9
    }
   ],
   "source": [
    "df['eyeColor'].value_counts()"
   ]
  },
  {
   "cell_type": "markdown",
   "metadata": {},
   "source": [
    "We have 19 rows but if we total above counts then we will get 16 because by default it doesn't count None values. To get None(or NaN) count also you need to add dropna=False"
   ]
  },
  {
   "cell_type": "code",
   "execution_count": 10,
   "metadata": {},
   "outputs": [
    {
     "output_type": "execute_result",
     "data": {
      "text/plain": "blue     10\nbrown     3\ngreen     3\nNaN       3\nName: eyeColor, dtype: int64"
     },
     "metadata": {},
     "execution_count": 10
    }
   ],
   "source": [
    "df['eyeColor'].value_counts(dropna=False)"
   ]
  },
  {
   "cell_type": "markdown",
   "metadata": {},
   "source": [
    "To drop unnecessary columns"
   ]
  },
  {
   "cell_type": "code",
   "execution_count": 48,
   "metadata": {},
   "outputs": [],
   "source": [
    "df = df.drop(['index','guid','picture','email','phone','latitude','longitude','address','registered','tags'], axis='columns')"
   ]
  },
  {
   "cell_type": "code",
   "execution_count": 49,
   "metadata": {},
   "outputs": [
    {
     "output_type": "execute_result",
     "data": {
      "text/plain": "                        _id  isActive    balance  age eyeColor  \\\n0  5e91936d617c639d56d6e40a      True  $1,814.13   33     blue   \n1  5e91936d0326151699779694     False  $3,610.18   35      NaN   \n2  5e91936dac51832738a8d241     False  $2,358.30   35     blue   \n3  5e91936dc74a890c6f19d933      True  $2,457.23   24    green   \n4  5e91936df9d5b29dec2b1b63     False  $2,466.73   20     blue   \n\n             name  gender    company  friends  \\\n0    Britney Cote  female    PANZENT      127   \n1  Miranda Mathis    male    HIVEDOM      235   \n2   Carly Rodgers  female   BUZZNESS      298   \n3     Patsy Mckee  female    VISALIA      191   \n4   Waters Farley    male  RODEOLOGY      253   \n\n                                            greeting favoriteFruit  \\\n0   Hello, Britney Cote! You have 5 unread messages.         apple   \n1  Hello, Miranda Mathis! You have 3 unread messa...         apple   \n2  Hello, Carly Rodgers! You have 6 unread messages.         apple   \n3    Hello, Patsy Mckee! You have 5 unread messages.         apple   \n4  Hello, Waters Farley! You have 6 unread messages.         apple   \n\n                                               about  \n0                                                NaN  \n1  Ut ea dolor cupidatat laboris nulla in anim ex...  \n2  Culpa tempor voluptate excepteur adipisicing i...  \n3  Non duis incididunt laboris tempor aute aliqui...  \n4  Aute nulla aute proident ullamco in laborum. A...  ",
      "text/html": "<div>\n<style scoped>\n    .dataframe tbody tr th:only-of-type {\n        vertical-align: middle;\n    }\n\n    .dataframe tbody tr th {\n        vertical-align: top;\n    }\n\n    .dataframe thead th {\n        text-align: right;\n    }\n</style>\n<table border=\"1\" class=\"dataframe\">\n  <thead>\n    <tr style=\"text-align: right;\">\n      <th></th>\n      <th>_id</th>\n      <th>isActive</th>\n      <th>balance</th>\n      <th>age</th>\n      <th>eyeColor</th>\n      <th>name</th>\n      <th>gender</th>\n      <th>company</th>\n      <th>friends</th>\n      <th>greeting</th>\n      <th>favoriteFruit</th>\n      <th>about</th>\n    </tr>\n  </thead>\n  <tbody>\n    <tr>\n      <th>0</th>\n      <td>5e91936d617c639d56d6e40a</td>\n      <td>True</td>\n      <td>$1,814.13</td>\n      <td>33</td>\n      <td>blue</td>\n      <td>Britney Cote</td>\n      <td>female</td>\n      <td>PANZENT</td>\n      <td>127</td>\n      <td>Hello, Britney Cote! You have 5 unread messages.</td>\n      <td>apple</td>\n      <td>NaN</td>\n    </tr>\n    <tr>\n      <th>1</th>\n      <td>5e91936d0326151699779694</td>\n      <td>False</td>\n      <td>$3,610.18</td>\n      <td>35</td>\n      <td>NaN</td>\n      <td>Miranda Mathis</td>\n      <td>male</td>\n      <td>HIVEDOM</td>\n      <td>235</td>\n      <td>Hello, Miranda Mathis! You have 3 unread messa...</td>\n      <td>apple</td>\n      <td>Ut ea dolor cupidatat laboris nulla in anim ex...</td>\n    </tr>\n    <tr>\n      <th>2</th>\n      <td>5e91936dac51832738a8d241</td>\n      <td>False</td>\n      <td>$2,358.30</td>\n      <td>35</td>\n      <td>blue</td>\n      <td>Carly Rodgers</td>\n      <td>female</td>\n      <td>BUZZNESS</td>\n      <td>298</td>\n      <td>Hello, Carly Rodgers! You have 6 unread messages.</td>\n      <td>apple</td>\n      <td>Culpa tempor voluptate excepteur adipisicing i...</td>\n    </tr>\n    <tr>\n      <th>3</th>\n      <td>5e91936dc74a890c6f19d933</td>\n      <td>True</td>\n      <td>$2,457.23</td>\n      <td>24</td>\n      <td>green</td>\n      <td>Patsy Mckee</td>\n      <td>female</td>\n      <td>VISALIA</td>\n      <td>191</td>\n      <td>Hello, Patsy Mckee! You have 5 unread messages.</td>\n      <td>apple</td>\n      <td>Non duis incididunt laboris tempor aute aliqui...</td>\n    </tr>\n    <tr>\n      <th>4</th>\n      <td>5e91936df9d5b29dec2b1b63</td>\n      <td>False</td>\n      <td>$2,466.73</td>\n      <td>20</td>\n      <td>blue</td>\n      <td>Waters Farley</td>\n      <td>male</td>\n      <td>RODEOLOGY</td>\n      <td>253</td>\n      <td>Hello, Waters Farley! You have 6 unread messages.</td>\n      <td>apple</td>\n      <td>Aute nulla aute proident ullamco in laborum. A...</td>\n    </tr>\n  </tbody>\n</table>\n</div>"
     },
     "metadata": {},
     "execution_count": 49
    }
   ],
   "source": [
    "df.head()"
   ]
  },
  {
   "cell_type": "markdown",
   "metadata": {},
   "source": [
    "## Data imputation"
   ]
  },
  {
   "cell_type": "markdown",
   "metadata": {},
   "source": [
    "To change the value of a column based on condition"
   ]
  },
  {
   "cell_type": "code",
   "execution_count": 50,
   "metadata": {},
   "outputs": [],
   "source": [
    "df.loc[df['_id']=='5e91936d617c639d56d6e40a',['isActive']] = False"
   ]
  },
  {
   "cell_type": "code",
   "execution_count": 51,
   "metadata": {},
   "outputs": [
    {
     "output_type": "execute_result",
     "data": {
      "text/plain": "                        _id  isActive    balance  age eyeColor  \\\n0  5e91936d617c639d56d6e40a     False  $1,814.13   33     blue   \n1  5e91936d0326151699779694     False  $3,610.18   35      NaN   \n2  5e91936dac51832738a8d241     False  $2,358.30   35     blue   \n3  5e91936dc74a890c6f19d933      True  $2,457.23   24    green   \n4  5e91936df9d5b29dec2b1b63     False  $2,466.73   20     blue   \n\n             name  gender    company  friends  \\\n0    Britney Cote  female    PANZENT      127   \n1  Miranda Mathis    male    HIVEDOM      235   \n2   Carly Rodgers  female   BUZZNESS      298   \n3     Patsy Mckee  female    VISALIA      191   \n4   Waters Farley    male  RODEOLOGY      253   \n\n                                            greeting favoriteFruit  \\\n0   Hello, Britney Cote! You have 5 unread messages.         apple   \n1  Hello, Miranda Mathis! You have 3 unread messa...         apple   \n2  Hello, Carly Rodgers! You have 6 unread messages.         apple   \n3    Hello, Patsy Mckee! You have 5 unread messages.         apple   \n4  Hello, Waters Farley! You have 6 unread messages.         apple   \n\n                                               about  \n0                                                NaN  \n1  Ut ea dolor cupidatat laboris nulla in anim ex...  \n2  Culpa tempor voluptate excepteur adipisicing i...  \n3  Non duis incididunt laboris tempor aute aliqui...  \n4  Aute nulla aute proident ullamco in laborum. A...  ",
      "text/html": "<div>\n<style scoped>\n    .dataframe tbody tr th:only-of-type {\n        vertical-align: middle;\n    }\n\n    .dataframe tbody tr th {\n        vertical-align: top;\n    }\n\n    .dataframe thead th {\n        text-align: right;\n    }\n</style>\n<table border=\"1\" class=\"dataframe\">\n  <thead>\n    <tr style=\"text-align: right;\">\n      <th></th>\n      <th>_id</th>\n      <th>isActive</th>\n      <th>balance</th>\n      <th>age</th>\n      <th>eyeColor</th>\n      <th>name</th>\n      <th>gender</th>\n      <th>company</th>\n      <th>friends</th>\n      <th>greeting</th>\n      <th>favoriteFruit</th>\n      <th>about</th>\n    </tr>\n  </thead>\n  <tbody>\n    <tr>\n      <th>0</th>\n      <td>5e91936d617c639d56d6e40a</td>\n      <td>False</td>\n      <td>$1,814.13</td>\n      <td>33</td>\n      <td>blue</td>\n      <td>Britney Cote</td>\n      <td>female</td>\n      <td>PANZENT</td>\n      <td>127</td>\n      <td>Hello, Britney Cote! You have 5 unread messages.</td>\n      <td>apple</td>\n      <td>NaN</td>\n    </tr>\n    <tr>\n      <th>1</th>\n      <td>5e91936d0326151699779694</td>\n      <td>False</td>\n      <td>$3,610.18</td>\n      <td>35</td>\n      <td>NaN</td>\n      <td>Miranda Mathis</td>\n      <td>male</td>\n      <td>HIVEDOM</td>\n      <td>235</td>\n      <td>Hello, Miranda Mathis! You have 3 unread messa...</td>\n      <td>apple</td>\n      <td>Ut ea dolor cupidatat laboris nulla in anim ex...</td>\n    </tr>\n    <tr>\n      <th>2</th>\n      <td>5e91936dac51832738a8d241</td>\n      <td>False</td>\n      <td>$2,358.30</td>\n      <td>35</td>\n      <td>blue</td>\n      <td>Carly Rodgers</td>\n      <td>female</td>\n      <td>BUZZNESS</td>\n      <td>298</td>\n      <td>Hello, Carly Rodgers! You have 6 unread messages.</td>\n      <td>apple</td>\n      <td>Culpa tempor voluptate excepteur adipisicing i...</td>\n    </tr>\n    <tr>\n      <th>3</th>\n      <td>5e91936dc74a890c6f19d933</td>\n      <td>True</td>\n      <td>$2,457.23</td>\n      <td>24</td>\n      <td>green</td>\n      <td>Patsy Mckee</td>\n      <td>female</td>\n      <td>VISALIA</td>\n      <td>191</td>\n      <td>Hello, Patsy Mckee! You have 5 unread messages.</td>\n      <td>apple</td>\n      <td>Non duis incididunt laboris tempor aute aliqui...</td>\n    </tr>\n    <tr>\n      <th>4</th>\n      <td>5e91936df9d5b29dec2b1b63</td>\n      <td>False</td>\n      <td>$2,466.73</td>\n      <td>20</td>\n      <td>blue</td>\n      <td>Waters Farley</td>\n      <td>male</td>\n      <td>RODEOLOGY</td>\n      <td>253</td>\n      <td>Hello, Waters Farley! You have 6 unread messages.</td>\n      <td>apple</td>\n      <td>Aute nulla aute proident ullamco in laborum. A...</td>\n    </tr>\n  </tbody>\n</table>\n</div>"
     },
     "metadata": {},
     "execution_count": 51
    }
   ],
   "source": [
    "df.head()"
   ]
  },
  {
   "cell_type": "markdown",
   "metadata": {},
   "source": [
    "Sometimes we get None values there we usually fill with data which is kind of normal. For example, most of the people have brown coloured eyes and some records have None in the eyeColor column. To fill it"
   ]
  },
  {
   "cell_type": "code",
   "execution_count": 52,
   "metadata": {},
   "outputs": [],
   "source": [
    "df['eyeColor'].fillna('brown', inplace=True)"
   ]
  },
  {
   "cell_type": "code",
   "execution_count": 53,
   "metadata": {},
   "outputs": [
    {
     "output_type": "execute_result",
     "data": {
      "text/plain": "                        _id  isActive    balance  age eyeColor  \\\n0  5e91936d617c639d56d6e40a     False  $1,814.13   33     blue   \n1  5e91936d0326151699779694     False  $3,610.18   35    brown   \n2  5e91936dac51832738a8d241     False  $2,358.30   35     blue   \n3  5e91936dc74a890c6f19d933      True  $2,457.23   24    green   \n4  5e91936df9d5b29dec2b1b63     False  $2,466.73   20     blue   \n\n             name  gender    company  friends  \\\n0    Britney Cote  female    PANZENT      127   \n1  Miranda Mathis    male    HIVEDOM      235   \n2   Carly Rodgers  female   BUZZNESS      298   \n3     Patsy Mckee  female    VISALIA      191   \n4   Waters Farley    male  RODEOLOGY      253   \n\n                                            greeting favoriteFruit  \\\n0   Hello, Britney Cote! You have 5 unread messages.         apple   \n1  Hello, Miranda Mathis! You have 3 unread messa...         apple   \n2  Hello, Carly Rodgers! You have 6 unread messages.         apple   \n3    Hello, Patsy Mckee! You have 5 unread messages.         apple   \n4  Hello, Waters Farley! You have 6 unread messages.         apple   \n\n                                               about  \n0                                                NaN  \n1  Ut ea dolor cupidatat laboris nulla in anim ex...  \n2  Culpa tempor voluptate excepteur adipisicing i...  \n3  Non duis incididunt laboris tempor aute aliqui...  \n4  Aute nulla aute proident ullamco in laborum. A...  ",
      "text/html": "<div>\n<style scoped>\n    .dataframe tbody tr th:only-of-type {\n        vertical-align: middle;\n    }\n\n    .dataframe tbody tr th {\n        vertical-align: top;\n    }\n\n    .dataframe thead th {\n        text-align: right;\n    }\n</style>\n<table border=\"1\" class=\"dataframe\">\n  <thead>\n    <tr style=\"text-align: right;\">\n      <th></th>\n      <th>_id</th>\n      <th>isActive</th>\n      <th>balance</th>\n      <th>age</th>\n      <th>eyeColor</th>\n      <th>name</th>\n      <th>gender</th>\n      <th>company</th>\n      <th>friends</th>\n      <th>greeting</th>\n      <th>favoriteFruit</th>\n      <th>about</th>\n    </tr>\n  </thead>\n  <tbody>\n    <tr>\n      <th>0</th>\n      <td>5e91936d617c639d56d6e40a</td>\n      <td>False</td>\n      <td>$1,814.13</td>\n      <td>33</td>\n      <td>blue</td>\n      <td>Britney Cote</td>\n      <td>female</td>\n      <td>PANZENT</td>\n      <td>127</td>\n      <td>Hello, Britney Cote! You have 5 unread messages.</td>\n      <td>apple</td>\n      <td>NaN</td>\n    </tr>\n    <tr>\n      <th>1</th>\n      <td>5e91936d0326151699779694</td>\n      <td>False</td>\n      <td>$3,610.18</td>\n      <td>35</td>\n      <td>brown</td>\n      <td>Miranda Mathis</td>\n      <td>male</td>\n      <td>HIVEDOM</td>\n      <td>235</td>\n      <td>Hello, Miranda Mathis! You have 3 unread messa...</td>\n      <td>apple</td>\n      <td>Ut ea dolor cupidatat laboris nulla in anim ex...</td>\n    </tr>\n    <tr>\n      <th>2</th>\n      <td>5e91936dac51832738a8d241</td>\n      <td>False</td>\n      <td>$2,358.30</td>\n      <td>35</td>\n      <td>blue</td>\n      <td>Carly Rodgers</td>\n      <td>female</td>\n      <td>BUZZNESS</td>\n      <td>298</td>\n      <td>Hello, Carly Rodgers! You have 6 unread messages.</td>\n      <td>apple</td>\n      <td>Culpa tempor voluptate excepteur adipisicing i...</td>\n    </tr>\n    <tr>\n      <th>3</th>\n      <td>5e91936dc74a890c6f19d933</td>\n      <td>True</td>\n      <td>$2,457.23</td>\n      <td>24</td>\n      <td>green</td>\n      <td>Patsy Mckee</td>\n      <td>female</td>\n      <td>VISALIA</td>\n      <td>191</td>\n      <td>Hello, Patsy Mckee! You have 5 unread messages.</td>\n      <td>apple</td>\n      <td>Non duis incididunt laboris tempor aute aliqui...</td>\n    </tr>\n    <tr>\n      <th>4</th>\n      <td>5e91936df9d5b29dec2b1b63</td>\n      <td>False</td>\n      <td>$2,466.73</td>\n      <td>20</td>\n      <td>blue</td>\n      <td>Waters Farley</td>\n      <td>male</td>\n      <td>RODEOLOGY</td>\n      <td>253</td>\n      <td>Hello, Waters Farley! You have 6 unread messages.</td>\n      <td>apple</td>\n      <td>Aute nulla aute proident ullamco in laborum. A...</td>\n    </tr>\n  </tbody>\n</table>\n</div>"
     },
     "metadata": {},
     "execution_count": 53
    }
   ],
   "source": [
    "df.head()"
   ]
  },
  {
   "cell_type": "markdown",
   "metadata": {},
   "source": [
    "We can do several operations specific to data types. For example, If you want to convert values to uppercase of a column which has string values then pretty simple. Code for this is"
   ]
  },
  {
   "cell_type": "code",
   "execution_count": 54,
   "metadata": {},
   "outputs": [],
   "source": [
    "df[\"gender\"] = df[\"gender\"].str.upper()"
   ]
  },
  {
   "cell_type": "code",
   "execution_count": 55,
   "metadata": {},
   "outputs": [
    {
     "output_type": "execute_result",
     "data": {
      "text/plain": "                        _id  isActive    balance  age eyeColor  \\\n0  5e91936d617c639d56d6e40a     False  $1,814.13   33     blue   \n1  5e91936d0326151699779694     False  $3,610.18   35    brown   \n2  5e91936dac51832738a8d241     False  $2,358.30   35     blue   \n3  5e91936dc74a890c6f19d933      True  $2,457.23   24    green   \n4  5e91936df9d5b29dec2b1b63     False  $2,466.73   20     blue   \n\n             name  gender    company  friends  \\\n0    Britney Cote  FEMALE    PANZENT      127   \n1  Miranda Mathis    MALE    HIVEDOM      235   \n2   Carly Rodgers  FEMALE   BUZZNESS      298   \n3     Patsy Mckee  FEMALE    VISALIA      191   \n4   Waters Farley    MALE  RODEOLOGY      253   \n\n                                            greeting favoriteFruit  \\\n0   Hello, Britney Cote! You have 5 unread messages.         apple   \n1  Hello, Miranda Mathis! You have 3 unread messa...         apple   \n2  Hello, Carly Rodgers! You have 6 unread messages.         apple   \n3    Hello, Patsy Mckee! You have 5 unread messages.         apple   \n4  Hello, Waters Farley! You have 6 unread messages.         apple   \n\n                                               about  \n0                                                NaN  \n1  Ut ea dolor cupidatat laboris nulla in anim ex...  \n2  Culpa tempor voluptate excepteur adipisicing i...  \n3  Non duis incididunt laboris tempor aute aliqui...  \n4  Aute nulla aute proident ullamco in laborum. A...  ",
      "text/html": "<div>\n<style scoped>\n    .dataframe tbody tr th:only-of-type {\n        vertical-align: middle;\n    }\n\n    .dataframe tbody tr th {\n        vertical-align: top;\n    }\n\n    .dataframe thead th {\n        text-align: right;\n    }\n</style>\n<table border=\"1\" class=\"dataframe\">\n  <thead>\n    <tr style=\"text-align: right;\">\n      <th></th>\n      <th>_id</th>\n      <th>isActive</th>\n      <th>balance</th>\n      <th>age</th>\n      <th>eyeColor</th>\n      <th>name</th>\n      <th>gender</th>\n      <th>company</th>\n      <th>friends</th>\n      <th>greeting</th>\n      <th>favoriteFruit</th>\n      <th>about</th>\n    </tr>\n  </thead>\n  <tbody>\n    <tr>\n      <th>0</th>\n      <td>5e91936d617c639d56d6e40a</td>\n      <td>False</td>\n      <td>$1,814.13</td>\n      <td>33</td>\n      <td>blue</td>\n      <td>Britney Cote</td>\n      <td>FEMALE</td>\n      <td>PANZENT</td>\n      <td>127</td>\n      <td>Hello, Britney Cote! You have 5 unread messages.</td>\n      <td>apple</td>\n      <td>NaN</td>\n    </tr>\n    <tr>\n      <th>1</th>\n      <td>5e91936d0326151699779694</td>\n      <td>False</td>\n      <td>$3,610.18</td>\n      <td>35</td>\n      <td>brown</td>\n      <td>Miranda Mathis</td>\n      <td>MALE</td>\n      <td>HIVEDOM</td>\n      <td>235</td>\n      <td>Hello, Miranda Mathis! You have 3 unread messa...</td>\n      <td>apple</td>\n      <td>Ut ea dolor cupidatat laboris nulla in anim ex...</td>\n    </tr>\n    <tr>\n      <th>2</th>\n      <td>5e91936dac51832738a8d241</td>\n      <td>False</td>\n      <td>$2,358.30</td>\n      <td>35</td>\n      <td>blue</td>\n      <td>Carly Rodgers</td>\n      <td>FEMALE</td>\n      <td>BUZZNESS</td>\n      <td>298</td>\n      <td>Hello, Carly Rodgers! You have 6 unread messages.</td>\n      <td>apple</td>\n      <td>Culpa tempor voluptate excepteur adipisicing i...</td>\n    </tr>\n    <tr>\n      <th>3</th>\n      <td>5e91936dc74a890c6f19d933</td>\n      <td>True</td>\n      <td>$2,457.23</td>\n      <td>24</td>\n      <td>green</td>\n      <td>Patsy Mckee</td>\n      <td>FEMALE</td>\n      <td>VISALIA</td>\n      <td>191</td>\n      <td>Hello, Patsy Mckee! You have 5 unread messages.</td>\n      <td>apple</td>\n      <td>Non duis incididunt laboris tempor aute aliqui...</td>\n    </tr>\n    <tr>\n      <th>4</th>\n      <td>5e91936df9d5b29dec2b1b63</td>\n      <td>False</td>\n      <td>$2,466.73</td>\n      <td>20</td>\n      <td>blue</td>\n      <td>Waters Farley</td>\n      <td>MALE</td>\n      <td>RODEOLOGY</td>\n      <td>253</td>\n      <td>Hello, Waters Farley! You have 6 unread messages.</td>\n      <td>apple</td>\n      <td>Aute nulla aute proident ullamco in laborum. A...</td>\n    </tr>\n  </tbody>\n</table>\n</div>"
     },
     "metadata": {},
     "execution_count": 55
    }
   ],
   "source": [
    "df.head()"
   ]
  },
  {
   "cell_type": "markdown",
   "metadata": {},
   "source": [
    "We can consider a data frame as a matrix so we can do matrix operations too. For example, let's say we want to create a new column where we want to calculate friends count with age. To do this"
   ]
  },
  {
   "cell_type": "code",
   "execution_count": 56,
   "metadata": {},
   "outputs": [],
   "source": [
    "df['friends_to_age']=df['friends']/df['age']"
   ]
  },
  {
   "cell_type": "code",
   "execution_count": 57,
   "metadata": {},
   "outputs": [
    {
     "output_type": "execute_result",
     "data": {
      "text/plain": "                        _id  isActive    balance  age eyeColor  \\\n0  5e91936d617c639d56d6e40a     False  $1,814.13   33     blue   \n1  5e91936d0326151699779694     False  $3,610.18   35    brown   \n2  5e91936dac51832738a8d241     False  $2,358.30   35     blue   \n3  5e91936dc74a890c6f19d933      True  $2,457.23   24    green   \n4  5e91936df9d5b29dec2b1b63     False  $2,466.73   20     blue   \n\n             name  gender    company  friends  \\\n0    Britney Cote  FEMALE    PANZENT      127   \n1  Miranda Mathis    MALE    HIVEDOM      235   \n2   Carly Rodgers  FEMALE   BUZZNESS      298   \n3     Patsy Mckee  FEMALE    VISALIA      191   \n4   Waters Farley    MALE  RODEOLOGY      253   \n\n                                            greeting favoriteFruit  \\\n0   Hello, Britney Cote! You have 5 unread messages.         apple   \n1  Hello, Miranda Mathis! You have 3 unread messa...         apple   \n2  Hello, Carly Rodgers! You have 6 unread messages.         apple   \n3    Hello, Patsy Mckee! You have 5 unread messages.         apple   \n4  Hello, Waters Farley! You have 6 unread messages.         apple   \n\n                                               about  friends_to_age  \n0                                                NaN        3.848485  \n1  Ut ea dolor cupidatat laboris nulla in anim ex...        6.714286  \n2  Culpa tempor voluptate excepteur adipisicing i...        8.514286  \n3  Non duis incididunt laboris tempor aute aliqui...        7.958333  \n4  Aute nulla aute proident ullamco in laborum. A...       12.650000  ",
      "text/html": "<div>\n<style scoped>\n    .dataframe tbody tr th:only-of-type {\n        vertical-align: middle;\n    }\n\n    .dataframe tbody tr th {\n        vertical-align: top;\n    }\n\n    .dataframe thead th {\n        text-align: right;\n    }\n</style>\n<table border=\"1\" class=\"dataframe\">\n  <thead>\n    <tr style=\"text-align: right;\">\n      <th></th>\n      <th>_id</th>\n      <th>isActive</th>\n      <th>balance</th>\n      <th>age</th>\n      <th>eyeColor</th>\n      <th>name</th>\n      <th>gender</th>\n      <th>company</th>\n      <th>friends</th>\n      <th>greeting</th>\n      <th>favoriteFruit</th>\n      <th>about</th>\n      <th>friends_to_age</th>\n    </tr>\n  </thead>\n  <tbody>\n    <tr>\n      <th>0</th>\n      <td>5e91936d617c639d56d6e40a</td>\n      <td>False</td>\n      <td>$1,814.13</td>\n      <td>33</td>\n      <td>blue</td>\n      <td>Britney Cote</td>\n      <td>FEMALE</td>\n      <td>PANZENT</td>\n      <td>127</td>\n      <td>Hello, Britney Cote! You have 5 unread messages.</td>\n      <td>apple</td>\n      <td>NaN</td>\n      <td>3.848485</td>\n    </tr>\n    <tr>\n      <th>1</th>\n      <td>5e91936d0326151699779694</td>\n      <td>False</td>\n      <td>$3,610.18</td>\n      <td>35</td>\n      <td>brown</td>\n      <td>Miranda Mathis</td>\n      <td>MALE</td>\n      <td>HIVEDOM</td>\n      <td>235</td>\n      <td>Hello, Miranda Mathis! You have 3 unread messa...</td>\n      <td>apple</td>\n      <td>Ut ea dolor cupidatat laboris nulla in anim ex...</td>\n      <td>6.714286</td>\n    </tr>\n    <tr>\n      <th>2</th>\n      <td>5e91936dac51832738a8d241</td>\n      <td>False</td>\n      <td>$2,358.30</td>\n      <td>35</td>\n      <td>blue</td>\n      <td>Carly Rodgers</td>\n      <td>FEMALE</td>\n      <td>BUZZNESS</td>\n      <td>298</td>\n      <td>Hello, Carly Rodgers! You have 6 unread messages.</td>\n      <td>apple</td>\n      <td>Culpa tempor voluptate excepteur adipisicing i...</td>\n      <td>8.514286</td>\n    </tr>\n    <tr>\n      <th>3</th>\n      <td>5e91936dc74a890c6f19d933</td>\n      <td>True</td>\n      <td>$2,457.23</td>\n      <td>24</td>\n      <td>green</td>\n      <td>Patsy Mckee</td>\n      <td>FEMALE</td>\n      <td>VISALIA</td>\n      <td>191</td>\n      <td>Hello, Patsy Mckee! You have 5 unread messages.</td>\n      <td>apple</td>\n      <td>Non duis incididunt laboris tempor aute aliqui...</td>\n      <td>7.958333</td>\n    </tr>\n    <tr>\n      <th>4</th>\n      <td>5e91936df9d5b29dec2b1b63</td>\n      <td>False</td>\n      <td>$2,466.73</td>\n      <td>20</td>\n      <td>blue</td>\n      <td>Waters Farley</td>\n      <td>MALE</td>\n      <td>RODEOLOGY</td>\n      <td>253</td>\n      <td>Hello, Waters Farley! You have 6 unread messages.</td>\n      <td>apple</td>\n      <td>Aute nulla aute proident ullamco in laborum. A...</td>\n      <td>12.650000</td>\n    </tr>\n  </tbody>\n</table>\n</div>"
     },
     "metadata": {},
     "execution_count": 57
    }
   ],
   "source": [
    "df.head()"
   ]
  },
  {
   "cell_type": "markdown",
   "metadata": {},
   "source": [
    "You can do all sorts of things on values and write lambda functions too to extract data from values present in a column. For example, If you read the greeting message it contains the number of unread messages count. I don't think greeting message has any significance except the unread messages count so we can extract and put it in a new column with name unread_messages_count"
   ]
  },
  {
   "cell_type": "code",
   "execution_count": 58,
   "metadata": {},
   "outputs": [],
   "source": [
    "import re\n",
    "df[\"unread_messages_count\"] = df[\"greeting\"].apply(lambda greeting: re.findall(r'\\d+', greeting)[0])"
   ]
  },
  {
   "cell_type": "code",
   "execution_count": 59,
   "metadata": {},
   "outputs": [
    {
     "output_type": "execute_result",
     "data": {
      "text/plain": "                        _id  isActive    balance  age eyeColor  \\\n0  5e91936d617c639d56d6e40a     False  $1,814.13   33     blue   \n1  5e91936d0326151699779694     False  $3,610.18   35    brown   \n2  5e91936dac51832738a8d241     False  $2,358.30   35     blue   \n3  5e91936dc74a890c6f19d933      True  $2,457.23   24    green   \n4  5e91936df9d5b29dec2b1b63     False  $2,466.73   20     blue   \n\n             name  gender    company  friends  \\\n0    Britney Cote  FEMALE    PANZENT      127   \n1  Miranda Mathis    MALE    HIVEDOM      235   \n2   Carly Rodgers  FEMALE   BUZZNESS      298   \n3     Patsy Mckee  FEMALE    VISALIA      191   \n4   Waters Farley    MALE  RODEOLOGY      253   \n\n                                            greeting favoriteFruit  \\\n0   Hello, Britney Cote! You have 5 unread messages.         apple   \n1  Hello, Miranda Mathis! You have 3 unread messa...         apple   \n2  Hello, Carly Rodgers! You have 6 unread messages.         apple   \n3    Hello, Patsy Mckee! You have 5 unread messages.         apple   \n4  Hello, Waters Farley! You have 6 unread messages.         apple   \n\n                                               about  friends_to_age  \\\n0                                                NaN        3.848485   \n1  Ut ea dolor cupidatat laboris nulla in anim ex...        6.714286   \n2  Culpa tempor voluptate excepteur adipisicing i...        8.514286   \n3  Non duis incididunt laboris tempor aute aliqui...        7.958333   \n4  Aute nulla aute proident ullamco in laborum. A...       12.650000   \n\n  unread_messages_count  \n0                     5  \n1                     3  \n2                     6  \n3                     5  \n4                     6  ",
      "text/html": "<div>\n<style scoped>\n    .dataframe tbody tr th:only-of-type {\n        vertical-align: middle;\n    }\n\n    .dataframe tbody tr th {\n        vertical-align: top;\n    }\n\n    .dataframe thead th {\n        text-align: right;\n    }\n</style>\n<table border=\"1\" class=\"dataframe\">\n  <thead>\n    <tr style=\"text-align: right;\">\n      <th></th>\n      <th>_id</th>\n      <th>isActive</th>\n      <th>balance</th>\n      <th>age</th>\n      <th>eyeColor</th>\n      <th>name</th>\n      <th>gender</th>\n      <th>company</th>\n      <th>friends</th>\n      <th>greeting</th>\n      <th>favoriteFruit</th>\n      <th>about</th>\n      <th>friends_to_age</th>\n      <th>unread_messages_count</th>\n    </tr>\n  </thead>\n  <tbody>\n    <tr>\n      <th>0</th>\n      <td>5e91936d617c639d56d6e40a</td>\n      <td>False</td>\n      <td>$1,814.13</td>\n      <td>33</td>\n      <td>blue</td>\n      <td>Britney Cote</td>\n      <td>FEMALE</td>\n      <td>PANZENT</td>\n      <td>127</td>\n      <td>Hello, Britney Cote! You have 5 unread messages.</td>\n      <td>apple</td>\n      <td>NaN</td>\n      <td>3.848485</td>\n      <td>5</td>\n    </tr>\n    <tr>\n      <th>1</th>\n      <td>5e91936d0326151699779694</td>\n      <td>False</td>\n      <td>$3,610.18</td>\n      <td>35</td>\n      <td>brown</td>\n      <td>Miranda Mathis</td>\n      <td>MALE</td>\n      <td>HIVEDOM</td>\n      <td>235</td>\n      <td>Hello, Miranda Mathis! You have 3 unread messa...</td>\n      <td>apple</td>\n      <td>Ut ea dolor cupidatat laboris nulla in anim ex...</td>\n      <td>6.714286</td>\n      <td>3</td>\n    </tr>\n    <tr>\n      <th>2</th>\n      <td>5e91936dac51832738a8d241</td>\n      <td>False</td>\n      <td>$2,358.30</td>\n      <td>35</td>\n      <td>blue</td>\n      <td>Carly Rodgers</td>\n      <td>FEMALE</td>\n      <td>BUZZNESS</td>\n      <td>298</td>\n      <td>Hello, Carly Rodgers! You have 6 unread messages.</td>\n      <td>apple</td>\n      <td>Culpa tempor voluptate excepteur adipisicing i...</td>\n      <td>8.514286</td>\n      <td>6</td>\n    </tr>\n    <tr>\n      <th>3</th>\n      <td>5e91936dc74a890c6f19d933</td>\n      <td>True</td>\n      <td>$2,457.23</td>\n      <td>24</td>\n      <td>green</td>\n      <td>Patsy Mckee</td>\n      <td>FEMALE</td>\n      <td>VISALIA</td>\n      <td>191</td>\n      <td>Hello, Patsy Mckee! You have 5 unread messages.</td>\n      <td>apple</td>\n      <td>Non duis incididunt laboris tempor aute aliqui...</td>\n      <td>7.958333</td>\n      <td>5</td>\n    </tr>\n    <tr>\n      <th>4</th>\n      <td>5e91936df9d5b29dec2b1b63</td>\n      <td>False</td>\n      <td>$2,466.73</td>\n      <td>20</td>\n      <td>blue</td>\n      <td>Waters Farley</td>\n      <td>MALE</td>\n      <td>RODEOLOGY</td>\n      <td>253</td>\n      <td>Hello, Waters Farley! You have 6 unread messages.</td>\n      <td>apple</td>\n      <td>Aute nulla aute proident ullamco in laborum. A...</td>\n      <td>12.650000</td>\n      <td>6</td>\n    </tr>\n  </tbody>\n</table>\n</div>"
     },
     "metadata": {},
     "execution_count": 59
    }
   ],
   "source": [
    "df.head()"
   ]
  },
  {
   "cell_type": "markdown",
   "metadata": {},
   "source": [
    "Let's say you want to extract what you want from a column value and put it in different columns that also possible. For example, Let's split name into first name and last name"
   ]
  },
  {
   "cell_type": "code",
   "execution_count": 60,
   "metadata": {},
   "outputs": [],
   "source": [
    "def extract_first_last_name(row):\n",
    "    name = row['name'].split()\n",
    "    row['first_name'] = name[0]\n",
    "    row['last_name'] = name[1]\n",
    "    return row"
   ]
  },
  {
   "cell_type": "code",
   "execution_count": 61,
   "metadata": {},
   "outputs": [],
   "source": [
    "df = df.apply(lambda row: extract_first_last_name(row), axis='columns')"
   ]
  },
  {
   "cell_type": "code",
   "execution_count": 62,
   "metadata": {},
   "outputs": [
    {
     "output_type": "execute_result",
     "data": {
      "text/plain": "                        _id  isActive    balance  age eyeColor  \\\n0  5e91936d617c639d56d6e40a     False  $1,814.13   33     blue   \n1  5e91936d0326151699779694     False  $3,610.18   35    brown   \n2  5e91936dac51832738a8d241     False  $2,358.30   35     blue   \n3  5e91936dc74a890c6f19d933      True  $2,457.23   24    green   \n4  5e91936df9d5b29dec2b1b63     False  $2,466.73   20     blue   \n\n             name  gender    company  friends  \\\n0    Britney Cote  FEMALE    PANZENT      127   \n1  Miranda Mathis    MALE    HIVEDOM      235   \n2   Carly Rodgers  FEMALE   BUZZNESS      298   \n3     Patsy Mckee  FEMALE    VISALIA      191   \n4   Waters Farley    MALE  RODEOLOGY      253   \n\n                                            greeting favoriteFruit  \\\n0   Hello, Britney Cote! You have 5 unread messages.         apple   \n1  Hello, Miranda Mathis! You have 3 unread messa...         apple   \n2  Hello, Carly Rodgers! You have 6 unread messages.         apple   \n3    Hello, Patsy Mckee! You have 5 unread messages.         apple   \n4  Hello, Waters Farley! You have 6 unread messages.         apple   \n\n                                               about  friends_to_age  \\\n0                                                NaN        3.848485   \n1  Ut ea dolor cupidatat laboris nulla in anim ex...        6.714286   \n2  Culpa tempor voluptate excepteur adipisicing i...        8.514286   \n3  Non duis incididunt laboris tempor aute aliqui...        7.958333   \n4  Aute nulla aute proident ullamco in laborum. A...       12.650000   \n\n  unread_messages_count first_name last_name  \n0                     5    Britney      Cote  \n1                     3    Miranda    Mathis  \n2                     6      Carly   Rodgers  \n3                     5      Patsy     Mckee  \n4                     6     Waters    Farley  ",
      "text/html": "<div>\n<style scoped>\n    .dataframe tbody tr th:only-of-type {\n        vertical-align: middle;\n    }\n\n    .dataframe tbody tr th {\n        vertical-align: top;\n    }\n\n    .dataframe thead th {\n        text-align: right;\n    }\n</style>\n<table border=\"1\" class=\"dataframe\">\n  <thead>\n    <tr style=\"text-align: right;\">\n      <th></th>\n      <th>_id</th>\n      <th>isActive</th>\n      <th>balance</th>\n      <th>age</th>\n      <th>eyeColor</th>\n      <th>name</th>\n      <th>gender</th>\n      <th>company</th>\n      <th>friends</th>\n      <th>greeting</th>\n      <th>favoriteFruit</th>\n      <th>about</th>\n      <th>friends_to_age</th>\n      <th>unread_messages_count</th>\n      <th>first_name</th>\n      <th>last_name</th>\n    </tr>\n  </thead>\n  <tbody>\n    <tr>\n      <th>0</th>\n      <td>5e91936d617c639d56d6e40a</td>\n      <td>False</td>\n      <td>$1,814.13</td>\n      <td>33</td>\n      <td>blue</td>\n      <td>Britney Cote</td>\n      <td>FEMALE</td>\n      <td>PANZENT</td>\n      <td>127</td>\n      <td>Hello, Britney Cote! You have 5 unread messages.</td>\n      <td>apple</td>\n      <td>NaN</td>\n      <td>3.848485</td>\n      <td>5</td>\n      <td>Britney</td>\n      <td>Cote</td>\n    </tr>\n    <tr>\n      <th>1</th>\n      <td>5e91936d0326151699779694</td>\n      <td>False</td>\n      <td>$3,610.18</td>\n      <td>35</td>\n      <td>brown</td>\n      <td>Miranda Mathis</td>\n      <td>MALE</td>\n      <td>HIVEDOM</td>\n      <td>235</td>\n      <td>Hello, Miranda Mathis! You have 3 unread messa...</td>\n      <td>apple</td>\n      <td>Ut ea dolor cupidatat laboris nulla in anim ex...</td>\n      <td>6.714286</td>\n      <td>3</td>\n      <td>Miranda</td>\n      <td>Mathis</td>\n    </tr>\n    <tr>\n      <th>2</th>\n      <td>5e91936dac51832738a8d241</td>\n      <td>False</td>\n      <td>$2,358.30</td>\n      <td>35</td>\n      <td>blue</td>\n      <td>Carly Rodgers</td>\n      <td>FEMALE</td>\n      <td>BUZZNESS</td>\n      <td>298</td>\n      <td>Hello, Carly Rodgers! You have 6 unread messages.</td>\n      <td>apple</td>\n      <td>Culpa tempor voluptate excepteur adipisicing i...</td>\n      <td>8.514286</td>\n      <td>6</td>\n      <td>Carly</td>\n      <td>Rodgers</td>\n    </tr>\n    <tr>\n      <th>3</th>\n      <td>5e91936dc74a890c6f19d933</td>\n      <td>True</td>\n      <td>$2,457.23</td>\n      <td>24</td>\n      <td>green</td>\n      <td>Patsy Mckee</td>\n      <td>FEMALE</td>\n      <td>VISALIA</td>\n      <td>191</td>\n      <td>Hello, Patsy Mckee! You have 5 unread messages.</td>\n      <td>apple</td>\n      <td>Non duis incididunt laboris tempor aute aliqui...</td>\n      <td>7.958333</td>\n      <td>5</td>\n      <td>Patsy</td>\n      <td>Mckee</td>\n    </tr>\n    <tr>\n      <th>4</th>\n      <td>5e91936df9d5b29dec2b1b63</td>\n      <td>False</td>\n      <td>$2,466.73</td>\n      <td>20</td>\n      <td>blue</td>\n      <td>Waters Farley</td>\n      <td>MALE</td>\n      <td>RODEOLOGY</td>\n      <td>253</td>\n      <td>Hello, Waters Farley! You have 6 unread messages.</td>\n      <td>apple</td>\n      <td>Aute nulla aute proident ullamco in laborum. A...</td>\n      <td>12.650000</td>\n      <td>6</td>\n      <td>Waters</td>\n      <td>Farley</td>\n    </tr>\n  </tbody>\n</table>\n</div>"
     },
     "metadata": {},
     "execution_count": 62
    }
   ],
   "source": [
    "df.head()"
   ]
  },
  {
   "cell_type": "markdown",
   "metadata": {},
   "source": [
    "Dropping columns which doesn't have proper data"
   ]
  },
  {
   "cell_type": "markdown",
   "metadata": {},
   "source": [
    "We did whatever data imputation we need to do and for some columns we can't do anything and there is no point of them to keep because its going to give anyway trouble at the time of model training so we want to drop those columns and it's data then"
   ]
  },
  {
   "cell_type": "code",
   "execution_count": 63,
   "metadata": {},
   "outputs": [],
   "source": [
    "df = df.dropna(axis='columns')"
   ]
  },
  {
   "cell_type": "code",
   "execution_count": 64,
   "metadata": {},
   "outputs": [
    {
     "output_type": "execute_result",
     "data": {
      "text/plain": "                        _id  isActive    balance  age eyeColor  \\\n0  5e91936d617c639d56d6e40a     False  $1,814.13   33     blue   \n1  5e91936d0326151699779694     False  $3,610.18   35    brown   \n2  5e91936dac51832738a8d241     False  $2,358.30   35     blue   \n3  5e91936dc74a890c6f19d933      True  $2,457.23   24    green   \n4  5e91936df9d5b29dec2b1b63     False  $2,466.73   20     blue   \n\n             name  gender    company  friends  \\\n0    Britney Cote  FEMALE    PANZENT      127   \n1  Miranda Mathis    MALE    HIVEDOM      235   \n2   Carly Rodgers  FEMALE   BUZZNESS      298   \n3     Patsy Mckee  FEMALE    VISALIA      191   \n4   Waters Farley    MALE  RODEOLOGY      253   \n\n                                            greeting favoriteFruit  \\\n0   Hello, Britney Cote! You have 5 unread messages.         apple   \n1  Hello, Miranda Mathis! You have 3 unread messa...         apple   \n2  Hello, Carly Rodgers! You have 6 unread messages.         apple   \n3    Hello, Patsy Mckee! You have 5 unread messages.         apple   \n4  Hello, Waters Farley! You have 6 unread messages.         apple   \n\n   friends_to_age unread_messages_count first_name last_name  \n0        3.848485                     5    Britney      Cote  \n1        6.714286                     3    Miranda    Mathis  \n2        8.514286                     6      Carly   Rodgers  \n3        7.958333                     5      Patsy     Mckee  \n4       12.650000                     6     Waters    Farley  ",
      "text/html": "<div>\n<style scoped>\n    .dataframe tbody tr th:only-of-type {\n        vertical-align: middle;\n    }\n\n    .dataframe tbody tr th {\n        vertical-align: top;\n    }\n\n    .dataframe thead th {\n        text-align: right;\n    }\n</style>\n<table border=\"1\" class=\"dataframe\">\n  <thead>\n    <tr style=\"text-align: right;\">\n      <th></th>\n      <th>_id</th>\n      <th>isActive</th>\n      <th>balance</th>\n      <th>age</th>\n      <th>eyeColor</th>\n      <th>name</th>\n      <th>gender</th>\n      <th>company</th>\n      <th>friends</th>\n      <th>greeting</th>\n      <th>favoriteFruit</th>\n      <th>friends_to_age</th>\n      <th>unread_messages_count</th>\n      <th>first_name</th>\n      <th>last_name</th>\n    </tr>\n  </thead>\n  <tbody>\n    <tr>\n      <th>0</th>\n      <td>5e91936d617c639d56d6e40a</td>\n      <td>False</td>\n      <td>$1,814.13</td>\n      <td>33</td>\n      <td>blue</td>\n      <td>Britney Cote</td>\n      <td>FEMALE</td>\n      <td>PANZENT</td>\n      <td>127</td>\n      <td>Hello, Britney Cote! You have 5 unread messages.</td>\n      <td>apple</td>\n      <td>3.848485</td>\n      <td>5</td>\n      <td>Britney</td>\n      <td>Cote</td>\n    </tr>\n    <tr>\n      <th>1</th>\n      <td>5e91936d0326151699779694</td>\n      <td>False</td>\n      <td>$3,610.18</td>\n      <td>35</td>\n      <td>brown</td>\n      <td>Miranda Mathis</td>\n      <td>MALE</td>\n      <td>HIVEDOM</td>\n      <td>235</td>\n      <td>Hello, Miranda Mathis! You have 3 unread messa...</td>\n      <td>apple</td>\n      <td>6.714286</td>\n      <td>3</td>\n      <td>Miranda</td>\n      <td>Mathis</td>\n    </tr>\n    <tr>\n      <th>2</th>\n      <td>5e91936dac51832738a8d241</td>\n      <td>False</td>\n      <td>$2,358.30</td>\n      <td>35</td>\n      <td>blue</td>\n      <td>Carly Rodgers</td>\n      <td>FEMALE</td>\n      <td>BUZZNESS</td>\n      <td>298</td>\n      <td>Hello, Carly Rodgers! You have 6 unread messages.</td>\n      <td>apple</td>\n      <td>8.514286</td>\n      <td>6</td>\n      <td>Carly</td>\n      <td>Rodgers</td>\n    </tr>\n    <tr>\n      <th>3</th>\n      <td>5e91936dc74a890c6f19d933</td>\n      <td>True</td>\n      <td>$2,457.23</td>\n      <td>24</td>\n      <td>green</td>\n      <td>Patsy Mckee</td>\n      <td>FEMALE</td>\n      <td>VISALIA</td>\n      <td>191</td>\n      <td>Hello, Patsy Mckee! You have 5 unread messages.</td>\n      <td>apple</td>\n      <td>7.958333</td>\n      <td>5</td>\n      <td>Patsy</td>\n      <td>Mckee</td>\n    </tr>\n    <tr>\n      <th>4</th>\n      <td>5e91936df9d5b29dec2b1b63</td>\n      <td>False</td>\n      <td>$2,466.73</td>\n      <td>20</td>\n      <td>blue</td>\n      <td>Waters Farley</td>\n      <td>MALE</td>\n      <td>RODEOLOGY</td>\n      <td>253</td>\n      <td>Hello, Waters Farley! You have 6 unread messages.</td>\n      <td>apple</td>\n      <td>12.650000</td>\n      <td>6</td>\n      <td>Waters</td>\n      <td>Farley</td>\n    </tr>\n  </tbody>\n</table>\n</div>"
     },
     "metadata": {},
     "execution_count": 64
    }
   ],
   "source": [
    "df.head()"
   ]
  },
  {
   "cell_type": "code",
   "execution_count": 65,
   "metadata": {},
   "outputs": [],
   "source": [
    "df = df.drop(['name','greeting'], axis='columns')"
   ]
  },
  {
   "cell_type": "markdown",
   "metadata": {},
   "source": [
    "Dropping duplicate rows"
   ]
  },
  {
   "cell_type": "code",
   "execution_count": 66,
   "metadata": {},
   "outputs": [],
   "source": [
    "unique_df = df.drop_duplicates()"
   ]
  },
  {
   "cell_type": "code",
   "execution_count": 67,
   "metadata": {},
   "outputs": [
    {
     "output_type": "execute_result",
     "data": {
      "text/plain": "                        _id  isActive    balance  age eyeColor  gender  \\\n0  5e91936d617c639d56d6e40a     False  $1,814.13   33     blue  FEMALE   \n1  5e91936d0326151699779694     False  $3,610.18   35    brown    MALE   \n2  5e91936dac51832738a8d241     False  $2,358.30   35     blue  FEMALE   \n3  5e91936dc74a890c6f19d933      True  $2,457.23   24    green  FEMALE   \n4  5e91936df9d5b29dec2b1b63     False  $2,466.73   20     blue    MALE   \n5  5e91936dbf8fbe6a1b99f888     False  $2,069.59   39    brown  FEMALE   \n6  5e91936d4eed9784f3515a46     False  $1,472.59   24     blue  FEMALE   \n\n     company  friends favoriteFruit  friends_to_age unread_messages_count  \\\n0    PANZENT      127         apple        3.848485                     5   \n1    HIVEDOM      235         apple        6.714286                     3   \n2   BUZZNESS      298         apple        8.514286                     6   \n3    VISALIA      191         apple        7.958333                     5   \n4  RODEOLOGY      253         apple       12.650000                     6   \n5   QUAILCOM      123        banana        3.153846                     7   \n6   ENTROPIX      167         apple        6.958333                     8   \n\n  first_name last_name  \n0    Britney      Cote  \n1    Miranda    Mathis  \n2      Carly   Rodgers  \n3      Patsy     Mckee  \n4     Waters    Farley  \n5      Kelly    Monroe  \n6    Chelsea   Gregory  ",
      "text/html": "<div>\n<style scoped>\n    .dataframe tbody tr th:only-of-type {\n        vertical-align: middle;\n    }\n\n    .dataframe tbody tr th {\n        vertical-align: top;\n    }\n\n    .dataframe thead th {\n        text-align: right;\n    }\n</style>\n<table border=\"1\" class=\"dataframe\">\n  <thead>\n    <tr style=\"text-align: right;\">\n      <th></th>\n      <th>_id</th>\n      <th>isActive</th>\n      <th>balance</th>\n      <th>age</th>\n      <th>eyeColor</th>\n      <th>gender</th>\n      <th>company</th>\n      <th>friends</th>\n      <th>favoriteFruit</th>\n      <th>friends_to_age</th>\n      <th>unread_messages_count</th>\n      <th>first_name</th>\n      <th>last_name</th>\n    </tr>\n  </thead>\n  <tbody>\n    <tr>\n      <th>0</th>\n      <td>5e91936d617c639d56d6e40a</td>\n      <td>False</td>\n      <td>$1,814.13</td>\n      <td>33</td>\n      <td>blue</td>\n      <td>FEMALE</td>\n      <td>PANZENT</td>\n      <td>127</td>\n      <td>apple</td>\n      <td>3.848485</td>\n      <td>5</td>\n      <td>Britney</td>\n      <td>Cote</td>\n    </tr>\n    <tr>\n      <th>1</th>\n      <td>5e91936d0326151699779694</td>\n      <td>False</td>\n      <td>$3,610.18</td>\n      <td>35</td>\n      <td>brown</td>\n      <td>MALE</td>\n      <td>HIVEDOM</td>\n      <td>235</td>\n      <td>apple</td>\n      <td>6.714286</td>\n      <td>3</td>\n      <td>Miranda</td>\n      <td>Mathis</td>\n    </tr>\n    <tr>\n      <th>2</th>\n      <td>5e91936dac51832738a8d241</td>\n      <td>False</td>\n      <td>$2,358.30</td>\n      <td>35</td>\n      <td>blue</td>\n      <td>FEMALE</td>\n      <td>BUZZNESS</td>\n      <td>298</td>\n      <td>apple</td>\n      <td>8.514286</td>\n      <td>6</td>\n      <td>Carly</td>\n      <td>Rodgers</td>\n    </tr>\n    <tr>\n      <th>3</th>\n      <td>5e91936dc74a890c6f19d933</td>\n      <td>True</td>\n      <td>$2,457.23</td>\n      <td>24</td>\n      <td>green</td>\n      <td>FEMALE</td>\n      <td>VISALIA</td>\n      <td>191</td>\n      <td>apple</td>\n      <td>7.958333</td>\n      <td>5</td>\n      <td>Patsy</td>\n      <td>Mckee</td>\n    </tr>\n    <tr>\n      <th>4</th>\n      <td>5e91936df9d5b29dec2b1b63</td>\n      <td>False</td>\n      <td>$2,466.73</td>\n      <td>20</td>\n      <td>blue</td>\n      <td>MALE</td>\n      <td>RODEOLOGY</td>\n      <td>253</td>\n      <td>apple</td>\n      <td>12.650000</td>\n      <td>6</td>\n      <td>Waters</td>\n      <td>Farley</td>\n    </tr>\n    <tr>\n      <th>5</th>\n      <td>5e91936dbf8fbe6a1b99f888</td>\n      <td>False</td>\n      <td>$2,069.59</td>\n      <td>39</td>\n      <td>brown</td>\n      <td>FEMALE</td>\n      <td>QUAILCOM</td>\n      <td>123</td>\n      <td>banana</td>\n      <td>3.153846</td>\n      <td>7</td>\n      <td>Kelly</td>\n      <td>Monroe</td>\n    </tr>\n    <tr>\n      <th>6</th>\n      <td>5e91936d4eed9784f3515a46</td>\n      <td>False</td>\n      <td>$1,472.59</td>\n      <td>24</td>\n      <td>blue</td>\n      <td>FEMALE</td>\n      <td>ENTROPIX</td>\n      <td>167</td>\n      <td>apple</td>\n      <td>6.958333</td>\n      <td>8</td>\n      <td>Chelsea</td>\n      <td>Gregory</td>\n    </tr>\n  </tbody>\n</table>\n</div>"
     },
     "metadata": {},
     "execution_count": 67
    }
   ],
   "source": [
    "unique_df.head(10)"
   ]
  },
  {
   "cell_type": "code",
   "execution_count": 68,
   "metadata": {},
   "outputs": [
    {
     "output_type": "stream",
     "name": "stdout",
     "text": "<class 'pandas.core.frame.DataFrame'>\nInt64Index: 7 entries, 0 to 6\nData columns (total 13 columns):\n #   Column                 Non-Null Count  Dtype  \n---  ------                 --------------  -----  \n 0   _id                    7 non-null      object \n 1   isActive               7 non-null      bool   \n 2   balance                7 non-null      object \n 3   age                    7 non-null      int64  \n 4   eyeColor               7 non-null      object \n 5   gender                 7 non-null      object \n 6   company                7 non-null      object \n 7   friends                7 non-null      int64  \n 8   favoriteFruit          7 non-null      object \n 9   friends_to_age         7 non-null      float64\n 10  unread_messages_count  7 non-null      object \n 11  first_name             7 non-null      object \n 12  last_name              7 non-null      object \ndtypes: bool(1), float64(1), int64(2), object(9)\nmemory usage: 735.0+ bytes\n"
    }
   ],
   "source": [
    "unique_df.info()"
   ]
  },
  {
   "cell_type": "markdown",
   "metadata": {},
   "source": [
    "### Renaming column names"
   ]
  },
  {
   "cell_type": "code",
   "execution_count": 69,
   "metadata": {},
   "outputs": [],
   "source": [
    "unique_df = unique_df.rename(columns={\"unread_messages_count\": \"unread_count\",\"friends_to_age\":\"friends_by_age\"})"
   ]
  },
  {
   "cell_type": "code",
   "execution_count": 70,
   "metadata": {},
   "outputs": [
    {
     "output_type": "execute_result",
     "data": {
      "text/plain": "                        _id  isActive    balance  age eyeColor  gender  \\\n0  5e91936d617c639d56d6e40a     False  $1,814.13   33     blue  FEMALE   \n1  5e91936d0326151699779694     False  $3,610.18   35    brown    MALE   \n2  5e91936dac51832738a8d241     False  $2,358.30   35     blue  FEMALE   \n3  5e91936dc74a890c6f19d933      True  $2,457.23   24    green  FEMALE   \n4  5e91936df9d5b29dec2b1b63     False  $2,466.73   20     blue    MALE   \n\n     company  friends favoriteFruit  friends_by_age unread_count first_name  \\\n0    PANZENT      127         apple        3.848485            5    Britney   \n1    HIVEDOM      235         apple        6.714286            3    Miranda   \n2   BUZZNESS      298         apple        8.514286            6      Carly   \n3    VISALIA      191         apple        7.958333            5      Patsy   \n4  RODEOLOGY      253         apple       12.650000            6     Waters   \n\n  last_name  \n0      Cote  \n1    Mathis  \n2   Rodgers  \n3     Mckee  \n4    Farley  ",
      "text/html": "<div>\n<style scoped>\n    .dataframe tbody tr th:only-of-type {\n        vertical-align: middle;\n    }\n\n    .dataframe tbody tr th {\n        vertical-align: top;\n    }\n\n    .dataframe thead th {\n        text-align: right;\n    }\n</style>\n<table border=\"1\" class=\"dataframe\">\n  <thead>\n    <tr style=\"text-align: right;\">\n      <th></th>\n      <th>_id</th>\n      <th>isActive</th>\n      <th>balance</th>\n      <th>age</th>\n      <th>eyeColor</th>\n      <th>gender</th>\n      <th>company</th>\n      <th>friends</th>\n      <th>favoriteFruit</th>\n      <th>friends_by_age</th>\n      <th>unread_count</th>\n      <th>first_name</th>\n      <th>last_name</th>\n    </tr>\n  </thead>\n  <tbody>\n    <tr>\n      <th>0</th>\n      <td>5e91936d617c639d56d6e40a</td>\n      <td>False</td>\n      <td>$1,814.13</td>\n      <td>33</td>\n      <td>blue</td>\n      <td>FEMALE</td>\n      <td>PANZENT</td>\n      <td>127</td>\n      <td>apple</td>\n      <td>3.848485</td>\n      <td>5</td>\n      <td>Britney</td>\n      <td>Cote</td>\n    </tr>\n    <tr>\n      <th>1</th>\n      <td>5e91936d0326151699779694</td>\n      <td>False</td>\n      <td>$3,610.18</td>\n      <td>35</td>\n      <td>brown</td>\n      <td>MALE</td>\n      <td>HIVEDOM</td>\n      <td>235</td>\n      <td>apple</td>\n      <td>6.714286</td>\n      <td>3</td>\n      <td>Miranda</td>\n      <td>Mathis</td>\n    </tr>\n    <tr>\n      <th>2</th>\n      <td>5e91936dac51832738a8d241</td>\n      <td>False</td>\n      <td>$2,358.30</td>\n      <td>35</td>\n      <td>blue</td>\n      <td>FEMALE</td>\n      <td>BUZZNESS</td>\n      <td>298</td>\n      <td>apple</td>\n      <td>8.514286</td>\n      <td>6</td>\n      <td>Carly</td>\n      <td>Rodgers</td>\n    </tr>\n    <tr>\n      <th>3</th>\n      <td>5e91936dc74a890c6f19d933</td>\n      <td>True</td>\n      <td>$2,457.23</td>\n      <td>24</td>\n      <td>green</td>\n      <td>FEMALE</td>\n      <td>VISALIA</td>\n      <td>191</td>\n      <td>apple</td>\n      <td>7.958333</td>\n      <td>5</td>\n      <td>Patsy</td>\n      <td>Mckee</td>\n    </tr>\n    <tr>\n      <th>4</th>\n      <td>5e91936df9d5b29dec2b1b63</td>\n      <td>False</td>\n      <td>$2,466.73</td>\n      <td>20</td>\n      <td>blue</td>\n      <td>MALE</td>\n      <td>RODEOLOGY</td>\n      <td>253</td>\n      <td>apple</td>\n      <td>12.650000</td>\n      <td>6</td>\n      <td>Waters</td>\n      <td>Farley</td>\n    </tr>\n  </tbody>\n</table>\n</div>"
     },
     "metadata": {},
     "execution_count": 70
    }
   ],
   "source": [
    "unique_df.head()"
   ]
  },
  {
   "cell_type": "markdown",
   "metadata": {},
   "source": [
    "## Data Filtering and sorting"
   ]
  },
  {
   "cell_type": "code",
   "execution_count": 71,
   "metadata": {},
   "outputs": [
    {
     "output_type": "execute_result",
     "data": {
      "text/plain": "                        _id  isActive    balance  age eyeColor  gender  \\\n0  5e91936d617c639d56d6e40a     False  $1,814.13   33     blue  FEMALE   \n1  5e91936d0326151699779694     False  $3,610.18   35    brown    MALE   \n2  5e91936dac51832738a8d241     False  $2,358.30   35     blue  FEMALE   \n5  5e91936dbf8fbe6a1b99f888     False  $2,069.59   39    brown  FEMALE   \n\n    company  friends favoriteFruit  friends_by_age unread_count first_name  \\\n0   PANZENT      127         apple        3.848485            5    Britney   \n1   HIVEDOM      235         apple        6.714286            3    Miranda   \n2  BUZZNESS      298         apple        8.514286            6      Carly   \n5  QUAILCOM      123        banana        3.153846            7      Kelly   \n\n  last_name  \n0      Cote  \n1    Mathis  \n2   Rodgers  \n5    Monroe  ",
      "text/html": "<div>\n<style scoped>\n    .dataframe tbody tr th:only-of-type {\n        vertical-align: middle;\n    }\n\n    .dataframe tbody tr th {\n        vertical-align: top;\n    }\n\n    .dataframe thead th {\n        text-align: right;\n    }\n</style>\n<table border=\"1\" class=\"dataframe\">\n  <thead>\n    <tr style=\"text-align: right;\">\n      <th></th>\n      <th>_id</th>\n      <th>isActive</th>\n      <th>balance</th>\n      <th>age</th>\n      <th>eyeColor</th>\n      <th>gender</th>\n      <th>company</th>\n      <th>friends</th>\n      <th>favoriteFruit</th>\n      <th>friends_by_age</th>\n      <th>unread_count</th>\n      <th>first_name</th>\n      <th>last_name</th>\n    </tr>\n  </thead>\n  <tbody>\n    <tr>\n      <th>0</th>\n      <td>5e91936d617c639d56d6e40a</td>\n      <td>False</td>\n      <td>$1,814.13</td>\n      <td>33</td>\n      <td>blue</td>\n      <td>FEMALE</td>\n      <td>PANZENT</td>\n      <td>127</td>\n      <td>apple</td>\n      <td>3.848485</td>\n      <td>5</td>\n      <td>Britney</td>\n      <td>Cote</td>\n    </tr>\n    <tr>\n      <th>1</th>\n      <td>5e91936d0326151699779694</td>\n      <td>False</td>\n      <td>$3,610.18</td>\n      <td>35</td>\n      <td>brown</td>\n      <td>MALE</td>\n      <td>HIVEDOM</td>\n      <td>235</td>\n      <td>apple</td>\n      <td>6.714286</td>\n      <td>3</td>\n      <td>Miranda</td>\n      <td>Mathis</td>\n    </tr>\n    <tr>\n      <th>2</th>\n      <td>5e91936dac51832738a8d241</td>\n      <td>False</td>\n      <td>$2,358.30</td>\n      <td>35</td>\n      <td>blue</td>\n      <td>FEMALE</td>\n      <td>BUZZNESS</td>\n      <td>298</td>\n      <td>apple</td>\n      <td>8.514286</td>\n      <td>6</td>\n      <td>Carly</td>\n      <td>Rodgers</td>\n    </tr>\n    <tr>\n      <th>5</th>\n      <td>5e91936dbf8fbe6a1b99f888</td>\n      <td>False</td>\n      <td>$2,069.59</td>\n      <td>39</td>\n      <td>brown</td>\n      <td>FEMALE</td>\n      <td>QUAILCOM</td>\n      <td>123</td>\n      <td>banana</td>\n      <td>3.153846</td>\n      <td>7</td>\n      <td>Kelly</td>\n      <td>Monroe</td>\n    </tr>\n  </tbody>\n</table>\n</div>"
     },
     "metadata": {},
     "execution_count": 71
    }
   ],
   "source": [
    "unique_df.loc[unique_df['age'] > 30]"
   ]
  },
  {
   "cell_type": "code",
   "execution_count": 72,
   "metadata": {},
   "outputs": [
    {
     "output_type": "execute_result",
     "data": {
      "text/plain": "                        _id  isActive    balance  age eyeColor  gender  \\\n1  5e91936d0326151699779694     False  $3,610.18   35    brown    MALE   \n3  5e91936dc74a890c6f19d933      True  $2,457.23   24    green  FEMALE   \n5  5e91936dbf8fbe6a1b99f888     False  $2,069.59   39    brown  FEMALE   \n\n    company  friends favoriteFruit  friends_by_age unread_count first_name  \\\n1   HIVEDOM      235         apple        6.714286            3    Miranda   \n3   VISALIA      191         apple        7.958333            5      Patsy   \n5  QUAILCOM      123        banana        3.153846            7      Kelly   \n\n  last_name  \n1    Mathis  \n3     Mckee  \n5    Monroe  ",
      "text/html": "<div>\n<style scoped>\n    .dataframe tbody tr th:only-of-type {\n        vertical-align: middle;\n    }\n\n    .dataframe tbody tr th {\n        vertical-align: top;\n    }\n\n    .dataframe thead th {\n        text-align: right;\n    }\n</style>\n<table border=\"1\" class=\"dataframe\">\n  <thead>\n    <tr style=\"text-align: right;\">\n      <th></th>\n      <th>_id</th>\n      <th>isActive</th>\n      <th>balance</th>\n      <th>age</th>\n      <th>eyeColor</th>\n      <th>gender</th>\n      <th>company</th>\n      <th>friends</th>\n      <th>favoriteFruit</th>\n      <th>friends_by_age</th>\n      <th>unread_count</th>\n      <th>first_name</th>\n      <th>last_name</th>\n    </tr>\n  </thead>\n  <tbody>\n    <tr>\n      <th>1</th>\n      <td>5e91936d0326151699779694</td>\n      <td>False</td>\n      <td>$3,610.18</td>\n      <td>35</td>\n      <td>brown</td>\n      <td>MALE</td>\n      <td>HIVEDOM</td>\n      <td>235</td>\n      <td>apple</td>\n      <td>6.714286</td>\n      <td>3</td>\n      <td>Miranda</td>\n      <td>Mathis</td>\n    </tr>\n    <tr>\n      <th>3</th>\n      <td>5e91936dc74a890c6f19d933</td>\n      <td>True</td>\n      <td>$2,457.23</td>\n      <td>24</td>\n      <td>green</td>\n      <td>FEMALE</td>\n      <td>VISALIA</td>\n      <td>191</td>\n      <td>apple</td>\n      <td>7.958333</td>\n      <td>5</td>\n      <td>Patsy</td>\n      <td>Mckee</td>\n    </tr>\n    <tr>\n      <th>5</th>\n      <td>5e91936dbf8fbe6a1b99f888</td>\n      <td>False</td>\n      <td>$2,069.59</td>\n      <td>39</td>\n      <td>brown</td>\n      <td>FEMALE</td>\n      <td>QUAILCOM</td>\n      <td>123</td>\n      <td>banana</td>\n      <td>3.153846</td>\n      <td>7</td>\n      <td>Kelly</td>\n      <td>Monroe</td>\n    </tr>\n  </tbody>\n</table>\n</div>"
     },
     "metadata": {},
     "execution_count": 72
    }
   ],
   "source": [
    "unique_df.loc[unique_df['eyeColor'].isin(['brown','green'])]"
   ]
  },
  {
   "cell_type": "code",
   "execution_count": 73,
   "metadata": {},
   "outputs": [
    {
     "output_type": "execute_result",
     "data": {
      "text/plain": "                        _id  isActive    balance  age eyeColor  gender  \\\n0  5e91936d617c639d56d6e40a     False  $1,814.13   33     blue  FEMALE   \n1  5e91936d0326151699779694     False  $3,610.18   35    brown    MALE   \n2  5e91936dac51832738a8d241     False  $2,358.30   35     blue  FEMALE   \n4  5e91936df9d5b29dec2b1b63     False  $2,466.73   20     blue    MALE   \n5  5e91936dbf8fbe6a1b99f888     False  $2,069.59   39    brown  FEMALE   \n6  5e91936d4eed9784f3515a46     False  $1,472.59   24     blue  FEMALE   \n\n     company  friends favoriteFruit  friends_by_age unread_count first_name  \\\n0    PANZENT      127         apple        3.848485            5    Britney   \n1    HIVEDOM      235         apple        6.714286            3    Miranda   \n2   BUZZNESS      298         apple        8.514286            6      Carly   \n4  RODEOLOGY      253         apple       12.650000            6     Waters   \n5   QUAILCOM      123        banana        3.153846            7      Kelly   \n6   ENTROPIX      167         apple        6.958333            8    Chelsea   \n\n  last_name  \n0      Cote  \n1    Mathis  \n2   Rodgers  \n4    Farley  \n5    Monroe  \n6   Gregory  ",
      "text/html": "<div>\n<style scoped>\n    .dataframe tbody tr th:only-of-type {\n        vertical-align: middle;\n    }\n\n    .dataframe tbody tr th {\n        vertical-align: top;\n    }\n\n    .dataframe thead th {\n        text-align: right;\n    }\n</style>\n<table border=\"1\" class=\"dataframe\">\n  <thead>\n    <tr style=\"text-align: right;\">\n      <th></th>\n      <th>_id</th>\n      <th>isActive</th>\n      <th>balance</th>\n      <th>age</th>\n      <th>eyeColor</th>\n      <th>gender</th>\n      <th>company</th>\n      <th>friends</th>\n      <th>favoriteFruit</th>\n      <th>friends_by_age</th>\n      <th>unread_count</th>\n      <th>first_name</th>\n      <th>last_name</th>\n    </tr>\n  </thead>\n  <tbody>\n    <tr>\n      <th>0</th>\n      <td>5e91936d617c639d56d6e40a</td>\n      <td>False</td>\n      <td>$1,814.13</td>\n      <td>33</td>\n      <td>blue</td>\n      <td>FEMALE</td>\n      <td>PANZENT</td>\n      <td>127</td>\n      <td>apple</td>\n      <td>3.848485</td>\n      <td>5</td>\n      <td>Britney</td>\n      <td>Cote</td>\n    </tr>\n    <tr>\n      <th>1</th>\n      <td>5e91936d0326151699779694</td>\n      <td>False</td>\n      <td>$3,610.18</td>\n      <td>35</td>\n      <td>brown</td>\n      <td>MALE</td>\n      <td>HIVEDOM</td>\n      <td>235</td>\n      <td>apple</td>\n      <td>6.714286</td>\n      <td>3</td>\n      <td>Miranda</td>\n      <td>Mathis</td>\n    </tr>\n    <tr>\n      <th>2</th>\n      <td>5e91936dac51832738a8d241</td>\n      <td>False</td>\n      <td>$2,358.30</td>\n      <td>35</td>\n      <td>blue</td>\n      <td>FEMALE</td>\n      <td>BUZZNESS</td>\n      <td>298</td>\n      <td>apple</td>\n      <td>8.514286</td>\n      <td>6</td>\n      <td>Carly</td>\n      <td>Rodgers</td>\n    </tr>\n    <tr>\n      <th>4</th>\n      <td>5e91936df9d5b29dec2b1b63</td>\n      <td>False</td>\n      <td>$2,466.73</td>\n      <td>20</td>\n      <td>blue</td>\n      <td>MALE</td>\n      <td>RODEOLOGY</td>\n      <td>253</td>\n      <td>apple</td>\n      <td>12.650000</td>\n      <td>6</td>\n      <td>Waters</td>\n      <td>Farley</td>\n    </tr>\n    <tr>\n      <th>5</th>\n      <td>5e91936dbf8fbe6a1b99f888</td>\n      <td>False</td>\n      <td>$2,069.59</td>\n      <td>39</td>\n      <td>brown</td>\n      <td>FEMALE</td>\n      <td>QUAILCOM</td>\n      <td>123</td>\n      <td>banana</td>\n      <td>3.153846</td>\n      <td>7</td>\n      <td>Kelly</td>\n      <td>Monroe</td>\n    </tr>\n    <tr>\n      <th>6</th>\n      <td>5e91936d4eed9784f3515a46</td>\n      <td>False</td>\n      <td>$1,472.59</td>\n      <td>24</td>\n      <td>blue</td>\n      <td>FEMALE</td>\n      <td>ENTROPIX</td>\n      <td>167</td>\n      <td>apple</td>\n      <td>6.958333</td>\n      <td>8</td>\n      <td>Chelsea</td>\n      <td>Gregory</td>\n    </tr>\n  </tbody>\n</table>\n</div>"
     },
     "metadata": {},
     "execution_count": 73
    }
   ],
   "source": [
    "unique_df.loc[unique_df['eyeColor'].str.contains('b')]"
   ]
  },
  {
   "cell_type": "code",
   "execution_count": 74,
   "metadata": {},
   "outputs": [
    {
     "output_type": "execute_result",
     "data": {
      "text/plain": "                        _id  isActive    balance  age eyeColor  gender  \\\n0  5e91936d617c639d56d6e40a     False  $1,814.13   33     blue  FEMALE   \n2  5e91936dac51832738a8d241     False  $2,358.30   35     blue  FEMALE   \n6  5e91936d4eed9784f3515a46     False  $1,472.59   24     blue  FEMALE   \n5  5e91936dbf8fbe6a1b99f888     False  $2,069.59   39    brown  FEMALE   \n1  5e91936d0326151699779694     False  $3,610.18   35    brown    MALE   \n3  5e91936dc74a890c6f19d933      True  $2,457.23   24    green  FEMALE   \n4  5e91936df9d5b29dec2b1b63     False  $2,466.73   20     blue    MALE   \n\n     company  friends favoriteFruit  friends_by_age unread_count first_name  \\\n0    PANZENT      127         apple        3.848485            5    Britney   \n2   BUZZNESS      298         apple        8.514286            6      Carly   \n6   ENTROPIX      167         apple        6.958333            8    Chelsea   \n5   QUAILCOM      123        banana        3.153846            7      Kelly   \n1    HIVEDOM      235         apple        6.714286            3    Miranda   \n3    VISALIA      191         apple        7.958333            5      Patsy   \n4  RODEOLOGY      253         apple       12.650000            6     Waters   \n\n  last_name  \n0      Cote  \n2   Rodgers  \n6   Gregory  \n5    Monroe  \n1    Mathis  \n3     Mckee  \n4    Farley  ",
      "text/html": "<div>\n<style scoped>\n    .dataframe tbody tr th:only-of-type {\n        vertical-align: middle;\n    }\n\n    .dataframe tbody tr th {\n        vertical-align: top;\n    }\n\n    .dataframe thead th {\n        text-align: right;\n    }\n</style>\n<table border=\"1\" class=\"dataframe\">\n  <thead>\n    <tr style=\"text-align: right;\">\n      <th></th>\n      <th>_id</th>\n      <th>isActive</th>\n      <th>balance</th>\n      <th>age</th>\n      <th>eyeColor</th>\n      <th>gender</th>\n      <th>company</th>\n      <th>friends</th>\n      <th>favoriteFruit</th>\n      <th>friends_by_age</th>\n      <th>unread_count</th>\n      <th>first_name</th>\n      <th>last_name</th>\n    </tr>\n  </thead>\n  <tbody>\n    <tr>\n      <th>0</th>\n      <td>5e91936d617c639d56d6e40a</td>\n      <td>False</td>\n      <td>$1,814.13</td>\n      <td>33</td>\n      <td>blue</td>\n      <td>FEMALE</td>\n      <td>PANZENT</td>\n      <td>127</td>\n      <td>apple</td>\n      <td>3.848485</td>\n      <td>5</td>\n      <td>Britney</td>\n      <td>Cote</td>\n    </tr>\n    <tr>\n      <th>2</th>\n      <td>5e91936dac51832738a8d241</td>\n      <td>False</td>\n      <td>$2,358.30</td>\n      <td>35</td>\n      <td>blue</td>\n      <td>FEMALE</td>\n      <td>BUZZNESS</td>\n      <td>298</td>\n      <td>apple</td>\n      <td>8.514286</td>\n      <td>6</td>\n      <td>Carly</td>\n      <td>Rodgers</td>\n    </tr>\n    <tr>\n      <th>6</th>\n      <td>5e91936d4eed9784f3515a46</td>\n      <td>False</td>\n      <td>$1,472.59</td>\n      <td>24</td>\n      <td>blue</td>\n      <td>FEMALE</td>\n      <td>ENTROPIX</td>\n      <td>167</td>\n      <td>apple</td>\n      <td>6.958333</td>\n      <td>8</td>\n      <td>Chelsea</td>\n      <td>Gregory</td>\n    </tr>\n    <tr>\n      <th>5</th>\n      <td>5e91936dbf8fbe6a1b99f888</td>\n      <td>False</td>\n      <td>$2,069.59</td>\n      <td>39</td>\n      <td>brown</td>\n      <td>FEMALE</td>\n      <td>QUAILCOM</td>\n      <td>123</td>\n      <td>banana</td>\n      <td>3.153846</td>\n      <td>7</td>\n      <td>Kelly</td>\n      <td>Monroe</td>\n    </tr>\n    <tr>\n      <th>1</th>\n      <td>5e91936d0326151699779694</td>\n      <td>False</td>\n      <td>$3,610.18</td>\n      <td>35</td>\n      <td>brown</td>\n      <td>MALE</td>\n      <td>HIVEDOM</td>\n      <td>235</td>\n      <td>apple</td>\n      <td>6.714286</td>\n      <td>3</td>\n      <td>Miranda</td>\n      <td>Mathis</td>\n    </tr>\n    <tr>\n      <th>3</th>\n      <td>5e91936dc74a890c6f19d933</td>\n      <td>True</td>\n      <td>$2,457.23</td>\n      <td>24</td>\n      <td>green</td>\n      <td>FEMALE</td>\n      <td>VISALIA</td>\n      <td>191</td>\n      <td>apple</td>\n      <td>7.958333</td>\n      <td>5</td>\n      <td>Patsy</td>\n      <td>Mckee</td>\n    </tr>\n    <tr>\n      <th>4</th>\n      <td>5e91936df9d5b29dec2b1b63</td>\n      <td>False</td>\n      <td>$2,466.73</td>\n      <td>20</td>\n      <td>blue</td>\n      <td>MALE</td>\n      <td>RODEOLOGY</td>\n      <td>253</td>\n      <td>apple</td>\n      <td>12.650000</td>\n      <td>6</td>\n      <td>Waters</td>\n      <td>Farley</td>\n    </tr>\n  </tbody>\n</table>\n</div>"
     },
     "metadata": {},
     "execution_count": 74
    }
   ],
   "source": [
    "unique_df.sort_values(by=['first_name'])"
   ]
  },
  {
   "cell_type": "markdown",
   "metadata": {},
   "source": [
    "## Creating unique data set with specific fields"
   ]
  },
  {
   "cell_type": "code",
   "execution_count": 75,
   "metadata": {},
   "outputs": [
    {
     "output_type": "execute_result",
     "data": {
      "text/plain": "                          age    balance\n_id                                     \n5e91936d0326151699779694   35  $3,610.18\n5e91936d4eed9784f3515a46   24  $1,472.59\n5e91936d617c639d56d6e40a   33  $1,814.13\n5e91936dac51832738a8d241   35  $2,358.30\n5e91936dbf8fbe6a1b99f888   39  $2,069.59\n5e91936dc74a890c6f19d933   24  $2,457.23\n5e91936df9d5b29dec2b1b63   20  $2,466.73",
      "text/html": "<div>\n<style scoped>\n    .dataframe tbody tr th:only-of-type {\n        vertical-align: middle;\n    }\n\n    .dataframe tbody tr th {\n        vertical-align: top;\n    }\n\n    .dataframe thead th {\n        text-align: right;\n    }\n</style>\n<table border=\"1\" class=\"dataframe\">\n  <thead>\n    <tr style=\"text-align: right;\">\n      <th></th>\n      <th>age</th>\n      <th>balance</th>\n    </tr>\n    <tr>\n      <th>_id</th>\n      <th></th>\n      <th></th>\n    </tr>\n  </thead>\n  <tbody>\n    <tr>\n      <th>5e91936d0326151699779694</th>\n      <td>35</td>\n      <td>$3,610.18</td>\n    </tr>\n    <tr>\n      <th>5e91936d4eed9784f3515a46</th>\n      <td>24</td>\n      <td>$1,472.59</td>\n    </tr>\n    <tr>\n      <th>5e91936d617c639d56d6e40a</th>\n      <td>33</td>\n      <td>$1,814.13</td>\n    </tr>\n    <tr>\n      <th>5e91936dac51832738a8d241</th>\n      <td>35</td>\n      <td>$2,358.30</td>\n    </tr>\n    <tr>\n      <th>5e91936dbf8fbe6a1b99f888</th>\n      <td>39</td>\n      <td>$2,069.59</td>\n    </tr>\n    <tr>\n      <th>5e91936dc74a890c6f19d933</th>\n      <td>24</td>\n      <td>$2,457.23</td>\n    </tr>\n    <tr>\n      <th>5e91936df9d5b29dec2b1b63</th>\n      <td>20</td>\n      <td>$2,466.73</td>\n    </tr>\n  </tbody>\n</table>\n</div>"
     },
     "metadata": {},
     "execution_count": 75
    }
   ],
   "source": [
    "df.groupby('_id').agg({'age':'min', 'balance':'min'})"
   ]
  },
  {
   "cell_type": "code",
   "execution_count": 76,
   "metadata": {},
   "outputs": [
    {
     "output_type": "execute_result",
     "data": {
      "text/plain": "                        _id  age    balance\n0  5e91936d0326151699779694   35  $3,610.18\n1  5e91936d4eed9784f3515a46   24  $1,472.59\n2  5e91936d617c639d56d6e40a   33  $1,814.13\n3  5e91936dac51832738a8d241   35  $2,358.30\n4  5e91936dbf8fbe6a1b99f888   39  $2,069.59\n5  5e91936dc74a890c6f19d933   24  $2,457.23\n6  5e91936df9d5b29dec2b1b63   20  $2,466.73",
      "text/html": "<div>\n<style scoped>\n    .dataframe tbody tr th:only-of-type {\n        vertical-align: middle;\n    }\n\n    .dataframe tbody tr th {\n        vertical-align: top;\n    }\n\n    .dataframe thead th {\n        text-align: right;\n    }\n</style>\n<table border=\"1\" class=\"dataframe\">\n  <thead>\n    <tr style=\"text-align: right;\">\n      <th></th>\n      <th>_id</th>\n      <th>age</th>\n      <th>balance</th>\n    </tr>\n  </thead>\n  <tbody>\n    <tr>\n      <th>0</th>\n      <td>5e91936d0326151699779694</td>\n      <td>35</td>\n      <td>$3,610.18</td>\n    </tr>\n    <tr>\n      <th>1</th>\n      <td>5e91936d4eed9784f3515a46</td>\n      <td>24</td>\n      <td>$1,472.59</td>\n    </tr>\n    <tr>\n      <th>2</th>\n      <td>5e91936d617c639d56d6e40a</td>\n      <td>33</td>\n      <td>$1,814.13</td>\n    </tr>\n    <tr>\n      <th>3</th>\n      <td>5e91936dac51832738a8d241</td>\n      <td>35</td>\n      <td>$2,358.30</td>\n    </tr>\n    <tr>\n      <th>4</th>\n      <td>5e91936dbf8fbe6a1b99f888</td>\n      <td>39</td>\n      <td>$2,069.59</td>\n    </tr>\n    <tr>\n      <th>5</th>\n      <td>5e91936dc74a890c6f19d933</td>\n      <td>24</td>\n      <td>$2,457.23</td>\n    </tr>\n    <tr>\n      <th>6</th>\n      <td>5e91936df9d5b29dec2b1b63</td>\n      <td>20</td>\n      <td>$2,466.73</td>\n    </tr>\n  </tbody>\n</table>\n</div>"
     },
     "metadata": {},
     "execution_count": 76
    }
   ],
   "source": [
    "df.groupby('_id').agg({'age':'min', 'balance':'min'}).reset_index()"
   ]
  },
  {
   "cell_type": "markdown",
   "metadata": {},
   "source": [
    "## Merging 2 dataframes"
   ]
  },
  {
   "cell_type": "code",
   "execution_count": 77,
   "metadata": {},
   "outputs": [],
   "source": [
    "food_dict = [{\"_id\":\"5e91936d0326151699779694\", \"favouriteFood\":\"Pasta\"},\n",
    "{\"_id\":\"5e91936d4eed9784f3515a46\", \"favouriteFood\":\"Hamburgers\"},\n",
    "{\"_id\":\"5e91936d617c639d56d6e40a\", \"favouriteFood\":\"Pizza\"},\n",
    "{\"_id\":\"5e91936dac51832738a8d241\", \"favouriteFood\":\"Vegetables\"},\n",
    "{\"_id\":\"5e91936dbf8fbe6a1b99f888\", \"favouriteFood\":\"Chicken\"},\n",
    "{\"_id\":\"5e91936dc74a890c6f19d933\", \"favouriteFood\":\"Pasta\"}\n",
    "]"
   ]
  },
  {
   "cell_type": "code",
   "execution_count": 78,
   "metadata": {},
   "outputs": [],
   "source": [
    "df_food = pd.DataFrame(food_dict)"
   ]
  },
  {
   "cell_type": "code",
   "execution_count": 79,
   "metadata": {},
   "outputs": [
    {
     "output_type": "execute_result",
     "data": {
      "text/plain": "                        _id favouriteFood\n0  5e91936d0326151699779694         Pasta\n1  5e91936d4eed9784f3515a46    Hamburgers\n2  5e91936d617c639d56d6e40a         Pizza\n3  5e91936dac51832738a8d241    Vegetables\n4  5e91936dbf8fbe6a1b99f888       Chicken",
      "text/html": "<div>\n<style scoped>\n    .dataframe tbody tr th:only-of-type {\n        vertical-align: middle;\n    }\n\n    .dataframe tbody tr th {\n        vertical-align: top;\n    }\n\n    .dataframe thead th {\n        text-align: right;\n    }\n</style>\n<table border=\"1\" class=\"dataframe\">\n  <thead>\n    <tr style=\"text-align: right;\">\n      <th></th>\n      <th>_id</th>\n      <th>favouriteFood</th>\n    </tr>\n  </thead>\n  <tbody>\n    <tr>\n      <th>0</th>\n      <td>5e91936d0326151699779694</td>\n      <td>Pasta</td>\n    </tr>\n    <tr>\n      <th>1</th>\n      <td>5e91936d4eed9784f3515a46</td>\n      <td>Hamburgers</td>\n    </tr>\n    <tr>\n      <th>2</th>\n      <td>5e91936d617c639d56d6e40a</td>\n      <td>Pizza</td>\n    </tr>\n    <tr>\n      <th>3</th>\n      <td>5e91936dac51832738a8d241</td>\n      <td>Vegetables</td>\n    </tr>\n    <tr>\n      <th>4</th>\n      <td>5e91936dbf8fbe6a1b99f888</td>\n      <td>Chicken</td>\n    </tr>\n  </tbody>\n</table>\n</div>"
     },
     "metadata": {},
     "execution_count": 79
    }
   ],
   "source": [
    "df_food.head()"
   ]
  },
  {
   "cell_type": "code",
   "execution_count": 80,
   "metadata": {},
   "outputs": [],
   "source": [
    "unique_df = unique_df.merge(df_food, on=\"_id\", how = 'inner')"
   ]
  },
  {
   "cell_type": "code",
   "execution_count": 81,
   "metadata": {},
   "outputs": [
    {
     "output_type": "execute_result",
     "data": {
      "text/plain": "                        _id  isActive    balance  age eyeColor  gender  \\\n0  5e91936d617c639d56d6e40a     False  $1,814.13   33     blue  FEMALE   \n1  5e91936d0326151699779694     False  $3,610.18   35    brown    MALE   \n2  5e91936dac51832738a8d241     False  $2,358.30   35     blue  FEMALE   \n3  5e91936dc74a890c6f19d933      True  $2,457.23   24    green  FEMALE   \n4  5e91936dbf8fbe6a1b99f888     False  $2,069.59   39    brown  FEMALE   \n5  5e91936d4eed9784f3515a46     False  $1,472.59   24     blue  FEMALE   \n\n    company  friends favoriteFruit  friends_by_age unread_count first_name  \\\n0   PANZENT      127         apple        3.848485            5    Britney   \n1   HIVEDOM      235         apple        6.714286            3    Miranda   \n2  BUZZNESS      298         apple        8.514286            6      Carly   \n3   VISALIA      191         apple        7.958333            5      Patsy   \n4  QUAILCOM      123        banana        3.153846            7      Kelly   \n5  ENTROPIX      167         apple        6.958333            8    Chelsea   \n\n  last_name favouriteFood  \n0      Cote         Pizza  \n1    Mathis         Pasta  \n2   Rodgers    Vegetables  \n3     Mckee         Pasta  \n4    Monroe       Chicken  \n5   Gregory    Hamburgers  ",
      "text/html": "<div>\n<style scoped>\n    .dataframe tbody tr th:only-of-type {\n        vertical-align: middle;\n    }\n\n    .dataframe tbody tr th {\n        vertical-align: top;\n    }\n\n    .dataframe thead th {\n        text-align: right;\n    }\n</style>\n<table border=\"1\" class=\"dataframe\">\n  <thead>\n    <tr style=\"text-align: right;\">\n      <th></th>\n      <th>_id</th>\n      <th>isActive</th>\n      <th>balance</th>\n      <th>age</th>\n      <th>eyeColor</th>\n      <th>gender</th>\n      <th>company</th>\n      <th>friends</th>\n      <th>favoriteFruit</th>\n      <th>friends_by_age</th>\n      <th>unread_count</th>\n      <th>first_name</th>\n      <th>last_name</th>\n      <th>favouriteFood</th>\n    </tr>\n  </thead>\n  <tbody>\n    <tr>\n      <th>0</th>\n      <td>5e91936d617c639d56d6e40a</td>\n      <td>False</td>\n      <td>$1,814.13</td>\n      <td>33</td>\n      <td>blue</td>\n      <td>FEMALE</td>\n      <td>PANZENT</td>\n      <td>127</td>\n      <td>apple</td>\n      <td>3.848485</td>\n      <td>5</td>\n      <td>Britney</td>\n      <td>Cote</td>\n      <td>Pizza</td>\n    </tr>\n    <tr>\n      <th>1</th>\n      <td>5e91936d0326151699779694</td>\n      <td>False</td>\n      <td>$3,610.18</td>\n      <td>35</td>\n      <td>brown</td>\n      <td>MALE</td>\n      <td>HIVEDOM</td>\n      <td>235</td>\n      <td>apple</td>\n      <td>6.714286</td>\n      <td>3</td>\n      <td>Miranda</td>\n      <td>Mathis</td>\n      <td>Pasta</td>\n    </tr>\n    <tr>\n      <th>2</th>\n      <td>5e91936dac51832738a8d241</td>\n      <td>False</td>\n      <td>$2,358.30</td>\n      <td>35</td>\n      <td>blue</td>\n      <td>FEMALE</td>\n      <td>BUZZNESS</td>\n      <td>298</td>\n      <td>apple</td>\n      <td>8.514286</td>\n      <td>6</td>\n      <td>Carly</td>\n      <td>Rodgers</td>\n      <td>Vegetables</td>\n    </tr>\n    <tr>\n      <th>3</th>\n      <td>5e91936dc74a890c6f19d933</td>\n      <td>True</td>\n      <td>$2,457.23</td>\n      <td>24</td>\n      <td>green</td>\n      <td>FEMALE</td>\n      <td>VISALIA</td>\n      <td>191</td>\n      <td>apple</td>\n      <td>7.958333</td>\n      <td>5</td>\n      <td>Patsy</td>\n      <td>Mckee</td>\n      <td>Pasta</td>\n    </tr>\n    <tr>\n      <th>4</th>\n      <td>5e91936dbf8fbe6a1b99f888</td>\n      <td>False</td>\n      <td>$2,069.59</td>\n      <td>39</td>\n      <td>brown</td>\n      <td>FEMALE</td>\n      <td>QUAILCOM</td>\n      <td>123</td>\n      <td>banana</td>\n      <td>3.153846</td>\n      <td>7</td>\n      <td>Kelly</td>\n      <td>Monroe</td>\n      <td>Chicken</td>\n    </tr>\n    <tr>\n      <th>5</th>\n      <td>5e91936d4eed9784f3515a46</td>\n      <td>False</td>\n      <td>$1,472.59</td>\n      <td>24</td>\n      <td>blue</td>\n      <td>FEMALE</td>\n      <td>ENTROPIX</td>\n      <td>167</td>\n      <td>apple</td>\n      <td>6.958333</td>\n      <td>8</td>\n      <td>Chelsea</td>\n      <td>Gregory</td>\n      <td>Hamburgers</td>\n    </tr>\n  </tbody>\n</table>\n</div>"
     },
     "metadata": {},
     "execution_count": 81
    }
   ],
   "source": [
    "unique_df.head(10)"
   ]
  }
 ]
}